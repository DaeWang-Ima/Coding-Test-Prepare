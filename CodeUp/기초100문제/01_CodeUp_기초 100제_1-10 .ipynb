{
 "cells": [
  {
   "cell_type": "markdown",
   "id": "ffaa375f-8bf9-4603-8710-21e76157b304",
   "metadata": {},
   "source": [
    "# 문제 1 ~ 문제 10"
   ]
  },
  {
   "cell_type": "markdown",
   "id": "acf37963-356f-488c-8671-fd1f25cb7485",
   "metadata": {},
   "source": [
    "## 1. <a href=\"https://codeup.kr/problem.php?id=6001\">[기초-출력]출력하기01(설명)</a>\n",
    "\n",
    "    print()를 이용해 다음 단어를 출력하시오.\n",
    "\n",
    "    Hello"
   ]
  },
  {
   "cell_type": "code",
   "execution_count": 2,
   "id": "6b5b1256-8736-4916-b550-3169aa160aab",
   "metadata": {},
   "outputs": [
    {
     "name": "stdout",
     "output_type": "stream",
     "text": [
      "Hello\n"
     ]
    }
   ],
   "source": [
    "print(\"Hello\")"
   ]
  },
  {
   "cell_type": "markdown",
   "id": "ef5ee230-8426-42b2-aef7-f5593b1c5795",
   "metadata": {},
   "source": [
    "---"
   ]
  },
  {
   "cell_type": "markdown",
   "id": "73b4a35d-69a9-4838-ba5f-ba7d90e5ece5",
   "metadata": {},
   "source": [
    "## 2. <a href=\"https://codeup.kr/problem.php?id=6002\">[기초-출력] 출력하기02(설명)</a>\n",
    "\n",
    "    공백을 포함한 Hello World 문장을 출력하시오."
   ]
  },
  {
   "cell_type": "code",
   "execution_count": 3,
   "id": "0407a2cc-91c1-4f5b-96fa-2779b9dedc67",
   "metadata": {},
   "outputs": [
    {
     "name": "stdout",
     "output_type": "stream",
     "text": [
      "Hello World\n"
     ]
    }
   ],
   "source": [
    "# 첫번째 풀이\n",
    "print(\"Hello World\")"
   ]
  },
  {
   "cell_type": "code",
   "execution_count": 4,
   "id": "5a05c896-8f1f-43dc-bb00-e9caad86f579",
   "metadata": {},
   "outputs": [
    {
     "name": "stdout",
     "output_type": "stream",
     "text": [
      "Hello World\n"
     ]
    }
   ],
   "source": [
    "# 두번째 풀이\n",
    "print(\"Hello\", \"World\")"
   ]
  },
  {
   "cell_type": "markdown",
   "id": "bd8f29e8-63bb-44dd-9e03-d2ada2996fc0",
   "metadata": {},
   "source": [
    "- Python의 print 함수는 print(\"문장1\", \"문장2\") 처럼 콤마로 구분되어 있는 경우에는 두 문장 사이에 공백을 출력해준다."
   ]
  },
  {
   "cell_type": "markdown",
   "id": "87f6bf67-d7a6-45b2-9dd3-92b859bdb8ae",
   "metadata": {},
   "source": [
    "---"
   ]
  },
  {
   "cell_type": "markdown",
   "id": "37606bb1-2ca3-4891-9db0-e354cb7c4d39",
   "metadata": {},
   "source": [
    "## 3. <a href=\"https://codeup.kr/problem.php?id=6003\">[기초-출력] 출력하기03(설명)</a>\n",
    "\n",
    "    아래와 같이 줄을 바꿔 문장을 출력하시오.\n",
    "    \n",
    "    Hello\n",
    "    World"
   ]
  },
  {
   "cell_type": "code",
   "execution_count": 7,
   "id": "1e754149-7f39-462f-b6d4-d88b6760e9ed",
   "metadata": {},
   "outputs": [
    {
     "name": "stdout",
     "output_type": "stream",
     "text": [
      "Hello\n",
      "World\n"
     ]
    }
   ],
   "source": [
    "# 첫번째 풀이\n",
    "print(\"Hello\\nWorld\")"
   ]
  },
  {
   "cell_type": "code",
   "execution_count": 8,
   "id": "447b6ef9-c85b-46cf-adb4-e7e0bdef69be",
   "metadata": {},
   "outputs": [
    {
     "name": "stdout",
     "output_type": "stream",
     "text": [
      "Hello\n",
      "World\n"
     ]
    }
   ],
   "source": [
    "# 두번째 풀이\n",
    "print(\"Hello\")\n",
    "print(\"World\")"
   ]
  },
  {
   "cell_type": "markdown",
   "id": "b96caf74-a18e-4217-984d-4d3e1b7390dd",
   "metadata": {},
   "source": [
    "---"
   ]
  },
  {
   "cell_type": "markdown",
   "id": "dcdeea8c-f363-43e4-867b-a62b076b2f32",
   "metadata": {},
   "source": [
    "## 4. <a href=\"https://codeup.kr/problem.php?id=6004\">[기초-출력] 출력하기04(설명)</a>\n",
    "\n",
    "    아래와 같이 작은 따옴표가 포함된 문장을 출력하시오.\n",
    "    \n",
    "    'Hello'"
   ]
  },
  {
   "cell_type": "code",
   "execution_count": 9,
   "id": "323accc6-780b-4f2d-b8c1-8e8b25cca194",
   "metadata": {},
   "outputs": [
    {
     "name": "stdout",
     "output_type": "stream",
     "text": [
      "'Hello'\n"
     ]
    }
   ],
   "source": [
    "print(\"'Hello'\")"
   ]
  },
  {
   "cell_type": "markdown",
   "id": "a8f2ac0d-c86f-4119-bb02-3bbcd4368fc4",
   "metadata": {},
   "source": [
    "---"
   ]
  },
  {
   "cell_type": "markdown",
   "id": "52384526-53e2-4fb6-98ca-ce9e425f2a82",
   "metadata": {},
   "source": [
    "## 5. <a href=\"https://codeup.kr/problem.php?id=6005\">[기초-출력] 출력하기05(설명)</a>\n",
    "\n",
    "    아래와 같이 큰따옴표가 포함된 문장을 출력하시오.\n",
    "    \n",
    "    \"Hello World\""
   ]
  },
  {
   "cell_type": "code",
   "execution_count": 12,
   "id": "ee42f998-836e-4f8c-bf6a-e4b9354d9ea9",
   "metadata": {},
   "outputs": [
    {
     "name": "stdout",
     "output_type": "stream",
     "text": [
      "\"Hello World\"\n"
     ]
    }
   ],
   "source": [
    "# 첫번째 풀이\n",
    "print('\"Hello World\"')"
   ]
  },
  {
   "cell_type": "code",
   "execution_count": 13,
   "id": "448a0ea5-df04-462d-ad2e-1972fdc4c1a8",
   "metadata": {},
   "outputs": [
    {
     "name": "stdout",
     "output_type": "stream",
     "text": [
      "\"Hello World\"\n"
     ]
    }
   ],
   "source": [
    "# 두번째 풀이\n",
    "print('\"Hello', 'World\"')"
   ]
  },
  {
   "cell_type": "markdown",
   "id": "6455a904-4a2f-42a5-83aa-583532d0fe05",
   "metadata": {},
   "source": [
    "- 두번째 풀이 방법을 사용시, 실수가 자주 발생할 수 있기 때문에 첫번째 풀이 방법을 사용하는 것이 좋을것으로 판단된다."
   ]
  },
  {
   "cell_type": "markdown",
   "id": "aca17b20-c9a2-4342-8001-10ecedf66c93",
   "metadata": {},
   "source": [
    "---"
   ]
  },
  {
   "cell_type": "markdown",
   "id": "ef02a342-7a16-4ac1-a7ab-5580097c5a9a",
   "metadata": {},
   "source": [
    "## 6. <a href=\"https://codeup.kr/problem.php?id=6006\">[기초-출력] 출력하기06</a>\n",
    "\n",
    "    아래와 같이 특수문자가 포함된 문장을 출력하시오.\n",
    "    \n",
    "    \"!@#$%^&*()'"
   ]
  },
  {
   "cell_type": "code",
   "execution_count": 17,
   "id": "c151df57-0ca1-4d9f-895c-b17d26666f3a",
   "metadata": {},
   "outputs": [
    {
     "name": "stdout",
     "output_type": "stream",
     "text": [
      "\"!@#$%^&*()'\n"
     ]
    }
   ],
   "source": [
    "print(\"\\\"!@#$%^&*()'\")"
   ]
  },
  {
   "cell_type": "markdown",
   "id": "43aa525d-fa33-4054-aa71-ce397f217378",
   "metadata": {},
   "source": [
    "- print 함수를 사용할 때, 출력 형식에 필요한 따옴표와 출력할 문자인 따옴표를 구분하기 위하여 `\\`를 사용하면 된다."
   ]
  },
  {
   "cell_type": "markdown",
   "id": "4ca7dc41-c585-4c68-abd4-59245f9d0fa9",
   "metadata": {},
   "source": [
    "---"
   ]
  },
  {
   "cell_type": "markdown",
   "id": "b03aa3ff-83b0-48e9-a271-a9acddf9c52d",
   "metadata": {},
   "source": [
    "## 7. <a href=\"https://codeup.kr/problem.php?id=6007\">[기초-출력] 출력하기07</a>\n",
    "    \n",
    "    윈도우 운영체제의 파일 경로를 출력해보도록 하자.\n",
    "    \n",
    "    파일 경로에는 특수문자들이 포함된다.\n",
    "    \n",
    "    다음 경로를 출력하시오.\n",
    "    \n",
    "    \"C:\\Download\\'hello'.py\""
   ]
  },
  {
   "cell_type": "code",
   "execution_count": 25,
   "id": "b1e7797b-28ff-41a9-9cdf-d2e0dbe8279d",
   "metadata": {},
   "outputs": [
    {
     "name": "stdout",
     "output_type": "stream",
     "text": [
      "\"C:\\Download\\'hello'.py\"\n"
     ]
    }
   ],
   "source": [
    "print(\"\\\"C:\\\\Download\\\\'hello'.py\\\"\")"
   ]
  },
  {
   "cell_type": "markdown",
   "id": "8ad7c64a-5774-4483-b07f-dfc352a35e4a",
   "metadata": {},
   "source": [
    "- 특수문자를 출력하는 경우에 되도록 `\\` 구분자를 사용해주도록 하자."
   ]
  },
  {
   "cell_type": "markdown",
   "id": "1dbdff50-1482-4e4e-aeb0-5d664a7a27ec",
   "metadata": {},
   "source": [
    "---"
   ]
  },
  {
   "cell_type": "markdown",
   "id": "59d3b138-9326-42ca-a6e9-6f490e18cf00",
   "metadata": {},
   "source": [
    "## 8. <a href=\"https://codeup.kr/problem.php?id=6008\">[기초-출력] 출력하기08</a>\n",
    "\n",
    "    아래와 같은 python 프로그램의 소스코드를 출력해보도록 하자\n",
    "    \n",
    "    print(\"Hello\\nWorld\")"
   ]
  },
  {
   "cell_type": "code",
   "execution_count": 27,
   "id": "cc93beae-65a9-441a-bec4-63f1cb2b9a56",
   "metadata": {},
   "outputs": [
    {
     "name": "stdout",
     "output_type": "stream",
     "text": [
      "print(\"Hello\\nWorld\")\n"
     ]
    }
   ],
   "source": [
    "print(\"print(\\\"Hello\\\\nWorld\\\")\")"
   ]
  },
  {
   "cell_type": "markdown",
   "id": "5a11e0ae-baaa-4219-a892-5a2dd913a389",
   "metadata": {},
   "source": [
    "---"
   ]
  },
  {
   "cell_type": "markdown",
   "id": "e4a2e904-88c5-4d5f-b828-36b979ca20d7",
   "metadata": {},
   "source": [
    "## 9. <a href=\"https://codeup.kr/problem.php?id=6009\">[기초-입출력] 문자 1개 입력받아 그대로 출력하기(설명)</a>\n",
    "    \n",
    "    변수에 문자 1개를 저장한 후, 변수에 저장되어 있는 문자를 그대로 출력하시오.\n",
    "    \n",
    "    문자 a를 입력받아서 출력하시오."
   ]
  },
  {
   "cell_type": "code",
   "execution_count": 28,
   "id": "01d9d026-922f-4ec2-ba1d-282fb82ab34c",
   "metadata": {},
   "outputs": [
    {
     "name": "stdin",
     "output_type": "stream",
     "text": [
      " a\n"
     ]
    },
    {
     "name": "stdout",
     "output_type": "stream",
     "text": [
      "a\n"
     ]
    }
   ],
   "source": [
    "variable = input()\n",
    "\n",
    "print(variable)"
   ]
  },
  {
   "cell_type": "markdown",
   "id": "decda8c9-0764-465a-aba6-8336efceb03f",
   "metadata": {},
   "source": [
    "---"
   ]
  },
  {
   "cell_type": "markdown",
   "id": "d439dd8b-d7c0-4fa7-8083-97399b36c8b2",
   "metadata": {},
   "source": [
    "## 10. <a href=\"https://codeup.kr/problem.php?id=6010\">[기초-입출력] 정수 1개 입력받아 int로 변환하여 출력하기(설명)</a>\n",
    "\n",
    "    변수에 정수값을 저장한 후 정수로 변환하여 출력하시오.\n",
    "    \n",
    "    15를 입력받아 정수로 변환하여 출력하시오."
   ]
  },
  {
   "cell_type": "code",
   "execution_count": 29,
   "id": "0c774d74-eeca-4830-8944-0ab9a1dfb12e",
   "metadata": {},
   "outputs": [
    {
     "name": "stdin",
     "output_type": "stream",
     "text": [
      " 15\n"
     ]
    },
    {
     "name": "stdout",
     "output_type": "stream",
     "text": [
      "15\n"
     ]
    }
   ],
   "source": [
    "variable = input()\n",
    "\n",
    "# input 함수로 받은 값은 문자 타입이므로 변환해주어야 한다.\n",
    "variable = int(variable)\n",
    "print(variable)"
   ]
  }
 ],
 "metadata": {
  "kernelspec": {
   "display_name": "Python 3",
   "language": "python",
   "name": "python3"
  },
  "language_info": {
   "codemirror_mode": {
    "name": "ipython",
    "version": 3
   },
   "file_extension": ".py",
   "mimetype": "text/x-python",
   "name": "python",
   "nbconvert_exporter": "python",
   "pygments_lexer": "ipython3",
   "version": "3.8.12"
  }
 },
 "nbformat": 4,
 "nbformat_minor": 5
}
