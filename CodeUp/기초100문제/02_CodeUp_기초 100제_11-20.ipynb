{
 "cells": [
  {
   "cell_type": "markdown",
   "id": "8a3339b4-fb2a-4845-b878-49be4a409edf",
   "metadata": {},
   "source": [
    "# 문제 11 ~ 문제 20"
   ]
  },
  {
   "cell_type": "markdown",
   "id": "505112d8-e9ca-47b5-9a8a-2b1c9f562f33",
   "metadata": {},
   "source": [
    "## 1. <a href=\"https://codeup.kr/problem.php?id=6011\">[기초-입출력] 실수 1개 입력받아 변환하여 출력하기(설명)</a>\n",
    "\n",
    "    변수에 실수값을 저장한 후, 변수에 저장되어 있는 값을 그대로 출력하시오."
   ]
  },
  {
   "cell_type": "code",
   "execution_count": 2,
   "id": "50720356-997b-4251-8209-6664875ecd03",
   "metadata": {},
   "outputs": [
    {
     "name": "stdin",
     "output_type": "stream",
     "text": [
      " 1.414213\n"
     ]
    },
    {
     "name": "stdout",
     "output_type": "stream",
     "text": [
      "1.414213\n"
     ]
    }
   ],
   "source": [
    "variable = float(input())\n",
    "\n",
    "print(variable)"
   ]
  },
  {
   "cell_type": "markdown",
   "id": "9d3d2caa-33eb-4ce2-b655-35f32d7391f5",
   "metadata": {},
   "source": [
    "---"
   ]
  },
  {
   "cell_type": "markdown",
   "id": "ad5d7a57-34a6-49a1-aade-661aac4760a9",
   "metadata": {},
   "source": [
    "## 2. <a href=\"https://codeup.kr/problem.php?id=6012\">[기초-입출력] 정수 2개 입력받아 그대로 출력하기1(설명)</a>\n",
    "\n",
    "    줄을 바꿔 정수 2개를 입력받아 줄을 바꿔 출력하시오."
   ]
  },
  {
   "cell_type": "code",
   "execution_count": 3,
   "id": "702e888b-53af-4b44-a98a-c05b5bb9d2c9",
   "metadata": {},
   "outputs": [
    {
     "name": "stdin",
     "output_type": "stream",
     "text": [
      " 1\n",
      " 2\n"
     ]
    },
    {
     "name": "stdout",
     "output_type": "stream",
     "text": [
      "1\n",
      "2\n"
     ]
    }
   ],
   "source": [
    "a = input()\n",
    "b = input()\n",
    "\n",
    "print(a)\n",
    "print(b)"
   ]
  },
  {
   "cell_type": "markdown",
   "id": "ad5ed275-c4aa-4bed-94b0-ecddd222a918",
   "metadata": {},
   "source": [
    "- 정수 2개를 입력받아야 하기 때문에 input 함수의 값을 받을 변수를 2개 지정해주면 된다.\n",
    "\n",
    "- 정수 2개를 입력받은 후, input 으로 입력받은 값은 문자 타입이기 때문에 아래와 같이 print 함수를 사용해줘도 된다."
   ]
  },
  {
   "cell_type": "code",
   "execution_count": 5,
   "id": "4952f9ca-7928-4bb6-9d50-4fd2afbd65c8",
   "metadata": {},
   "outputs": [
    {
     "name": "stdin",
     "output_type": "stream",
     "text": [
      " 1\n",
      " 2\n"
     ]
    },
    {
     "name": "stdout",
     "output_type": "stream",
     "text": [
      "1\n",
      "2\n"
     ]
    }
   ],
   "source": [
    "a = input()\n",
    "b = input()\n",
    "\n",
    "print(a + \"\\n\" + b)"
   ]
  },
  {
   "cell_type": "markdown",
   "id": "663c621c-1022-49d6-b457-c9e523d6ec0e",
   "metadata": {},
   "source": [
    "---"
   ]
  },
  {
   "cell_type": "markdown",
   "id": "879dd864-c6f3-4d71-9eb8-b55fb20527f5",
   "metadata": {},
   "source": [
    "## 3. <a href=\"https://codeup.kr/problem.php?id=6013\">[기초-입출력] 문자 2개 입력받아 순서 바꿔 출력하기</a>\n",
    "\n",
    "    줄을 바꿔 문자(Character) 2개를 입력받고, 순서를 바꿔 한 줄씩 출력하시오."
   ]
  },
  {
   "cell_type": "code",
   "execution_count": 1,
   "id": "e80cab32-3708-49fb-9f25-68c6b80c4e70",
   "metadata": {},
   "outputs": [
    {
     "name": "stdin",
     "output_type": "stream",
     "text": [
      " a\n",
      " b\n"
     ]
    },
    {
     "name": "stdout",
     "output_type": "stream",
     "text": [
      "b\n",
      "a\n"
     ]
    }
   ],
   "source": [
    "a = input()\n",
    "b = input()\n",
    "\n",
    "print(b)\n",
    "print(a)"
   ]
  },
  {
   "cell_type": "markdown",
   "id": "2738446f-d161-4a5c-9e0f-2e238c18ff61",
   "metadata": {},
   "source": [
    "---"
   ]
  },
  {
   "cell_type": "markdown",
   "id": "2045ed73-6987-471d-89ee-53597eda2662",
   "metadata": {},
   "source": [
    "## 4. <a href=\"https://codeup.kr/problem.php?id=6014\">[기초-입출력] 실수 1개 입력받아 3번 출력하기</a>\n",
    "\n",
    "    실수(Real Number) 1개를 입력받아 줄을 바꿔 3번 출력하시오."
   ]
  },
  {
   "cell_type": "code",
   "execution_count": 3,
   "id": "e9cae90b-09eb-49ba-ae13-46004dab7393",
   "metadata": {},
   "outputs": [
    {
     "name": "stdin",
     "output_type": "stream",
     "text": [
      " 0.1\n"
     ]
    },
    {
     "name": "stdout",
     "output_type": "stream",
     "text": [
      "0.1\n",
      "0.1\n",
      "0.1\n"
     ]
    }
   ],
   "source": [
    "real_number = input()\n",
    "\n",
    "print(real_number)\n",
    "print(real_number)\n",
    "print(real_number)"
   ]
  },
  {
   "cell_type": "markdown",
   "id": "75158426-9298-4a0d-9982-e7b51858ba78",
   "metadata": {},
   "source": [
    "---"
   ]
  },
  {
   "cell_type": "markdown",
   "id": "5eb380ef-3bd2-4a58-b661-225b91de9add",
   "metadata": {},
   "source": [
    "## 5. <a href=\"https://codeup.kr/problem.php?id=6015\">[기초-입출력] 정수 2개 입력받아 그대로 출력하기2(설명)</a>\n",
    "\n",
    "    공백을 두고 입력된 정수(Integer) 2개를 입력받아 줄을 바꿔 출력하시오."
   ]
  },
  {
   "cell_type": "code",
   "execution_count": 6,
   "id": "21e43564-718e-4968-8ca9-b457dd0ae24b",
   "metadata": {},
   "outputs": [
    {
     "name": "stdin",
     "output_type": "stream",
     "text": [
      " 1 2\n"
     ]
    },
    {
     "name": "stdout",
     "output_type": "stream",
     "text": [
      "1\n",
      "2\n"
     ]
    }
   ],
   "source": [
    "a, b = input().split()\n",
    "\n",
    "print(a)\n",
    "print(b)"
   ]
  },
  {
   "cell_type": "markdown",
   "id": "dd7640dc-a256-4671-8f10-d331202c0132",
   "metadata": {},
   "source": [
    "- input 함수로 값을 입력받을 때, 바로 split 함수를 사용하여 공백을 기준으로 값을 나눠줘도 된다.\n",
    "\n",
    "- 혹은 아래와 같이 input 값을 변수로 저장한 후, 그 다음에 split 함수를 사용해줘도 무방하다."
   ]
  },
  {
   "cell_type": "code",
   "execution_count": 7,
   "id": "05ee17fe-67ef-4a41-8acc-f0baaeb21200",
   "metadata": {},
   "outputs": [
    {
     "name": "stdin",
     "output_type": "stream",
     "text": [
      " 1 2\n"
     ]
    },
    {
     "name": "stdout",
     "output_type": "stream",
     "text": [
      "1\n",
      "2\n"
     ]
    }
   ],
   "source": [
    "# 다른 풀이\n",
    "input_value = input()\n",
    "\n",
    "a, b = input_value.split()\n",
    "print(a)\n",
    "print(b)"
   ]
  },
  {
   "cell_type": "markdown",
   "id": "34d0c01c-5aef-4106-91a8-70e329cbfa05",
   "metadata": {},
   "source": [
    "---"
   ]
  },
  {
   "cell_type": "markdown",
   "id": "99eabfb5-f5ce-483f-a9bc-141168351afe",
   "metadata": {},
   "source": [
    "## 6. <a href=\"https://codeup.kr/problem.php?id=6016\">[기초-입출력] 문자 2개 입ㄹ력받아 순서 바꿔 출력하기2(설명)</a>\n",
    "\n",
    "    공백을 두고 문자(Character) 2개를 입력받아 순서를 바꿔 출력하시오."
   ]
  },
  {
   "cell_type": "code",
   "execution_count": 9,
   "id": "783b4066-4070-461a-b227-fc06d5462cc5",
   "metadata": {},
   "outputs": [
    {
     "name": "stdin",
     "output_type": "stream",
     "text": [
      " a b\n"
     ]
    },
    {
     "name": "stdout",
     "output_type": "stream",
     "text": [
      "b\n",
      "a\n"
     ]
    }
   ],
   "source": [
    "a, b = input().split()\n",
    "\n",
    "print(b)\n",
    "print(a)"
   ]
  },
  {
   "cell_type": "markdown",
   "id": "88d7d271-4cc4-4f35-af8d-7922e71a1164",
   "metadata": {},
   "source": [
    "---"
   ]
  },
  {
   "cell_type": "markdown",
   "id": "844911e3-70ed-42ff-bbbd-4f0a276826dd",
   "metadata": {},
   "source": [
    "## 7. <a href=\"https://codeup.kr/problem.php?id=6017\">[기초-입출력] 문장 1개 입력받아 3번 출력하기(설명)</a>\n",
    "\n",
    "    정수(Integer), 실수(Real Number), 문자(Character), 문자열(String) 등 1개만 입력받아 한 줄로 3번 출력하시오.\n",
    "    \n",
    "**입력 예시**\n",
    "\n",
    "`computer science`\n",
    "    \n",
    "**출력 예시**\n",
    "\n",
    "`computer science computer science computer science`"
   ]
  },
  {
   "cell_type": "code",
   "execution_count": 10,
   "id": "6be1ce14-f3a2-43df-a178-f2ac2942ca95",
   "metadata": {},
   "outputs": [
    {
     "name": "stdin",
     "output_type": "stream",
     "text": [
      " computer science\n"
     ]
    },
    {
     "name": "stdout",
     "output_type": "stream",
     "text": [
      "computer science computer science computer science\n"
     ]
    }
   ],
   "source": [
    "a = input()\n",
    "\n",
    "print(a, a, a)"
   ]
  },
  {
   "cell_type": "markdown",
   "id": "331e64ee-5994-4bed-94f5-35e0930541fb",
   "metadata": {},
   "source": [
    "---"
   ]
  },
  {
   "cell_type": "markdown",
   "id": "823c6ec3-c9f4-4690-b80f-498da346be9d",
   "metadata": {},
   "source": [
    "## 8. <a href=\"https://codeup.kr/problem.php?id=6018\">[기초-입출력] 시간 입력받아 그대로 출력하기(설명)</a>\n",
    "\n",
    "    24시간 시:분 형식으로 시간이 입력될 때, 그대로 출력하시오.\n",
    "    \n",
    "**입력 예시**\n",
    "\n",
    "`3:16`\n",
    "\n",
    "**출력 예시**\n",
    "\n",
    "`3:16`"
   ]
  },
  {
   "cell_type": "code",
   "execution_count": 12,
   "id": "cd073773-930a-4852-8f66-9f14c992751d",
   "metadata": {},
   "outputs": [
    {
     "name": "stdin",
     "output_type": "stream",
     "text": [
      " 3:16\n"
     ]
    },
    {
     "name": "stdout",
     "output_type": "stream",
     "text": [
      "3:16\n"
     ]
    }
   ],
   "source": [
    "a = input()\n",
    "\n",
    "print(a)"
   ]
  },
  {
   "cell_type": "markdown",
   "id": "41d43b99-89fe-4064-9321-db4882c4125a",
   "metadata": {},
   "source": [
    "- 위의 코드처럼 간단하게 입력받은 값을 그대로 출력하면 문제에서 요구하는 사항에 맞게 출력된다.\n",
    "\n",
    "- CodeUp 에서는 아래와 같은 방식으로 출력하고 있으며, 해당 방법도 참고하도록 하자."
   ]
  },
  {
   "cell_type": "code",
   "execution_count": 13,
   "id": "0bfbbdca-071b-4ef8-9f69-2808d9a23971",
   "metadata": {},
   "outputs": [
    {
     "name": "stdin",
     "output_type": "stream",
     "text": [
      " 3:16\n"
     ]
    },
    {
     "name": "stdout",
     "output_type": "stream",
     "text": [
      "3:16\n"
     ]
    }
   ],
   "source": [
    "a, b = input().split(\":\")\n",
    "\n",
    "print(a, b, sep = \":\")"
   ]
  },
  {
   "cell_type": "markdown",
   "id": "642158a8-8004-4658-b296-b3d5d1a69d88",
   "metadata": {},
   "source": [
    "---"
   ]
  },
  {
   "cell_type": "markdown",
   "id": "e3f87247-f2d2-4e97-8033-a5467ff9b803",
   "metadata": {},
   "source": [
    "## 9. <a href=\"https://codeup.kr/problem.php?id=6019\">[기초-입출력] 연월일 입력받아 순서 바꿔 출력하기</a>\n",
    "\n",
    "    \"연도.월.일\"을 입력받아 \"일-월-연도\" 순서로 바꿔 출력하시오.\n",
    "    \n",
    "**입력 예시**\n",
    "\n",
    "`2020.3.4`\n",
    "\n",
    "**출력 예시**\n",
    "\n",
    "`4-3-2020`"
   ]
  },
  {
   "cell_type": "code",
   "execution_count": 14,
   "id": "57106291-02d6-492d-9abb-1639dad8d856",
   "metadata": {},
   "outputs": [
    {
     "name": "stdin",
     "output_type": "stream",
     "text": [
      " 2020.3.4\n"
     ]
    },
    {
     "name": "stdout",
     "output_type": "stream",
     "text": [
      "4-3-2020\n"
     ]
    }
   ],
   "source": [
    "# 입력값을 '.'을 기준으로 하여 나눠주도록 한다.\n",
    "year, month, day = input().split(\".\")\n",
    "\n",
    "# 요구사항에 맞게 출력\n",
    "print(day, month, year, sep = \"-\")"
   ]
  },
  {
   "cell_type": "markdown",
   "id": "9b76c264-0aee-47c1-8c68-459ad9b282b6",
   "metadata": {},
   "source": [
    "---"
   ]
  },
  {
   "cell_type": "markdown",
   "id": "a6f3cebb-15d3-40b6-a74a-7acdccf0ddfd",
   "metadata": {},
   "source": [
    "## 10. <a href=\"https://codeup.kr/problem.php?id=6020\">[기초-입출력] 주민번호 입력받아 형태 바꿔 출력하기</a>\n",
    "\n",
    "    주민번호는 다음과 같이 구성된다.\n",
    "    \n",
    "    XXXXXX-XXXXXXX\n",
    "    \n",
    "    왼쪽 6자리는 생년월일(YYMMDD)이고, 오른쪽 7자리는 성별, 출생지역, 확인코드로 구성되어있다.\n",
    "    \n",
    "    '-'를 제외한 주민번호 13 자리를 모두 붙여서 출력하시오."
   ]
  },
  {
   "cell_type": "code",
   "execution_count": 15,
   "id": "ec680034-1e87-44df-9752-ce847b60809b",
   "metadata": {},
   "outputs": [
    {
     "name": "stdin",
     "output_type": "stream",
     "text": [
      " 000907-1121112\n"
     ]
    },
    {
     "name": "stdout",
     "output_type": "stream",
     "text": [
      "0009071121112\n"
     ]
    }
   ],
   "source": [
    "a = input()\n",
    "\n",
    "print(a.replace(\"-\", ''))"
   ]
  },
  {
   "cell_type": "code",
   "execution_count": 16,
   "id": "a52f7313-ba02-4482-a41f-dd3243dfadfd",
   "metadata": {},
   "outputs": [
    {
     "name": "stdin",
     "output_type": "stream",
     "text": [
      " 000907-1121112\n"
     ]
    },
    {
     "name": "stdout",
     "output_type": "stream",
     "text": [
      "0009071121112\n"
     ]
    }
   ],
   "source": [
    "# 다른 풀이\n",
    "a, b = input().split(\"-\")\n",
    "\n",
    "print(a, b, sep = \"\")"
   ]
  }
 ],
 "metadata": {
  "kernelspec": {
   "display_name": "Python 3",
   "language": "python",
   "name": "python3"
  },
  "language_info": {
   "codemirror_mode": {
    "name": "ipython",
    "version": 3
   },
   "file_extension": ".py",
   "mimetype": "text/x-python",
   "name": "python",
   "nbconvert_exporter": "python",
   "pygments_lexer": "ipython3",
   "version": "3.8.12"
  }
 },
 "nbformat": 4,
 "nbformat_minor": 5
}
