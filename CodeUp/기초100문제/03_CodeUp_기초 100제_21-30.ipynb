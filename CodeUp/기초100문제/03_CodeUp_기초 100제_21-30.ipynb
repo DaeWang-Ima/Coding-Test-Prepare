{
 "cells": [
  {
   "cell_type": "markdown",
   "id": "d37aa266-e094-4cc6-9fb7-ac9c43c6f8ae",
   "metadata": {},
   "source": [
    "# 문제 21 ~ 문제 30"
   ]
  },
  {
   "cell_type": "markdown",
   "id": "efe9e7d5-799a-4ff7-a137-70a77c5d5920",
   "metadata": {},
   "source": [
    "## 1. <a href=\"https://codeup.kr/problem.php?id=6021\">[기초-입출력] 단어 1개 입력받아 나누어 출력하기(설명)</a>\n",
    "\n",
    "    알파벳과 숫자로 이루어진 단어 1개가 입력된다.\n",
    "    \n",
    "    입력받은 단어의 각 문자를 한 줄에 한 문자씩 분리해 출력한다.\n",
    "\n",
    "**입력 예시**\n",
    "\n",
    "`Hello`\n",
    "\n",
    "**출력 예시**\n",
    "\n",
    "`H`<br>\n",
    "`e`<br>\n",
    "`l`<br>\n",
    "`l`<br>\n",
    "`o`"
   ]
  },
  {
   "cell_type": "markdown",
   "id": "2efd46b8-2cef-4510-8734-373f79664a57",
   "metadata": {},
   "source": [
    "- 형변환 함수를 적용하지 않고, input 함수로 입력받은 값은 항상 문자 타입임을 기억해야 한다.\n",
    "\n",
    "- 따라서, 문자 타입은 인덱싱이 가능하기 때문에 아래와 같이 코드를 작성해주면 된다."
   ]
  },
  {
   "cell_type": "code",
   "execution_count": 6,
   "id": "ae6606d9-024b-4dd2-9ccb-0f544f81839b",
   "metadata": {},
   "outputs": [
    {
     "name": "stdin",
     "output_type": "stream",
     "text": [
      " Hello\n"
     ]
    },
    {
     "name": "stdout",
     "output_type": "stream",
     "text": [
      "H\n",
      "e\n",
      "l\n",
      "l\n",
      "o\n"
     ]
    }
   ],
   "source": [
    "a = input()\n",
    "\n",
    "for index in range(len(a)):\n",
    "    print(a[index])"
   ]
  },
  {
   "cell_type": "markdown",
   "id": "76123504-e04b-4d4e-9424-faee79d4bc9d",
   "metadata": {},
   "source": [
    "---"
   ]
  },
  {
   "cell_type": "markdown",
   "id": "9d454f9d-3e19-42d7-a2ee-faa3282cb48a",
   "metadata": {},
   "source": [
    "## 2. <a href=\"https://codeup.kr/problem.php?id=6022\">[기초-입출력] 연월일 입력받아 나누어 출력하기(설명)</a>\n",
    "\n",
    "    6자리 연월일(YYMMDD)을 입력받아 나누어 출력하시오.\n",
    "    \n",
    "**입력 예시**\n",
    "\n",
    "`200304`\n",
    "\n",
    "**출력 예시**\n",
    "\n",
    "`20 03 04`"
   ]
  },
  {
   "cell_type": "code",
   "execution_count": 7,
   "id": "d5d55812-d575-4910-8a1c-ed9aa96322ea",
   "metadata": {},
   "outputs": [
    {
     "name": "stdin",
     "output_type": "stream",
     "text": [
      " 200304\n"
     ]
    },
    {
     "name": "stdout",
     "output_type": "stream",
     "text": [
      "20 03 04\n"
     ]
    }
   ],
   "source": [
    "a = input()\n",
    "\n",
    "print(a[:2], a[2:4], a[4:])"
   ]
  },
  {
   "cell_type": "markdown",
   "id": "b33cb53c-f6da-4123-829a-7b38532fe109",
   "metadata": {},
   "source": [
    "---"
   ]
  },
  {
   "cell_type": "markdown",
   "id": "9be480ca-693e-4385-be28-38630c074553",
   "metadata": {},
   "source": [
    "## 3. <a href=\"https://codeup.kr/problem.php?id=6023\">[기초-입출력] 시분초 입력받아 분만 출력하기</a>\n",
    "\n",
    "    시:분:초 형식으로 시간이 입력될 때 분만 출력하시오.\n",
    "    \n",
    "**입력 예시**\n",
    "\n",
    "`17:23:57`\n",
    "\n",
    "**출력 예시**\n",
    "\n",
    "`23`"
   ]
  },
  {
   "cell_type": "code",
   "execution_count": 8,
   "id": "d3e20375-35ee-48ca-89bb-814f2cdb3144",
   "metadata": {},
   "outputs": [
    {
     "name": "stdin",
     "output_type": "stream",
     "text": [
      " 17:23:57\n"
     ]
    },
    {
     "name": "stdout",
     "output_type": "stream",
     "text": [
      "23\n"
     ]
    }
   ],
   "source": [
    "# 입력값은 항상 지정되어 있기 때문에 ':' 기준으로 분할해준다.\n",
    "hour, minute, second = input().split(\":\")\n",
    "\n",
    "print(minute)"
   ]
  },
  {
   "cell_type": "markdown",
   "id": "5a6b88a1-2a9b-4897-b835-482ee1115ada",
   "metadata": {},
   "source": [
    "- 위의 코드는 변수를 3개나 생성해줘야 한다는 점이 있다.\n",
    "\n",
    "- 분은 항상 가운데에 위치하기 때문에 아래와 같이 코드를 작성해도된다."
   ]
  },
  {
   "cell_type": "code",
   "execution_count": 9,
   "id": "220c2b89-d17f-49a1-b239-f9cef852315d",
   "metadata": {},
   "outputs": [
    {
     "name": "stdin",
     "output_type": "stream",
     "text": [
      " 17:23:57\n"
     ]
    },
    {
     "name": "stdout",
     "output_type": "stream",
     "text": [
      "23\n"
     ]
    }
   ],
   "source": [
    "a = input().split(\":\")\n",
    "\n",
    "print(a[1])"
   ]
  },
  {
   "cell_type": "markdown",
   "id": "47ff7a6a-aec5-4887-bfb9-21f298a2cd2d",
   "metadata": {},
   "source": [
    "---"
   ]
  },
  {
   "cell_type": "markdown",
   "id": "f6512e22-5cbf-4de3-a502-4189f68c0e57",
   "metadata": {},
   "source": [
    "## 4. <a href=\"https://codeup.kr/problem.php?id=6024\">[기초-입출력] 단어 2개 입력받아 이어 붙이기(설명)</a>\n",
    "\n",
    "    알파벳 문자와 숫자로 이루어진 단어 2개를 입력받아 순서대로 붙어 출력하시오.\n",
    "    \n",
    "**입력 예시**\n",
    "\n",
    "`hello world`\n",
    "\n",
    "**출력 예시**\n",
    "\n",
    "`helloworld`"
   ]
  },
  {
   "cell_type": "code",
   "execution_count": 10,
   "id": "58179c26-ff9e-4f61-9d71-4c0235127400",
   "metadata": {},
   "outputs": [
    {
     "name": "stdin",
     "output_type": "stream",
     "text": [
      " hello world\n"
     ]
    },
    {
     "name": "stdout",
     "output_type": "stream",
     "text": [
      "helloworld\n"
     ]
    }
   ],
   "source": [
    "a = input()\n",
    "\n",
    "# 단어를 붙여서 출력하기 위해서는 가운데 '공백'을 삭제해주면 된다.\n",
    "print(a.replace(\" \", \"\"))"
   ]
  },
  {
   "cell_type": "markdown",
   "id": "6e5516e7-689c-43e7-9670-e98c30de5ef2",
   "metadata": {},
   "source": [
    "## 5. <a href=\"https://codeup.kr/problem.php?id=6025\">[기초-입출력] 정수 2개 입력받아 합 계산하기(설명)</a>\n",
    "\n",
    "    정수 2개를 입력받아 합을 출력하는 프로그램을 작성하시오.\n",
    "\n",
    "**입력 예시**\n",
    "\n",
    "`123 -123`\n",
    "\n",
    "**출력 예시**\n",
    "\n",
    "`0`"
   ]
  },
  {
   "cell_type": "code",
   "execution_count": 15,
   "id": "9b9c4939-7fa8-4b26-8664-c5f0fe1c2527",
   "metadata": {},
   "outputs": [
    {
     "name": "stdin",
     "output_type": "stream",
     "text": [
      " 123 -123\n"
     ]
    },
    {
     "name": "stdout",
     "output_type": "stream",
     "text": [
      "0\n"
     ]
    }
   ],
   "source": [
    "a, b = input().split(\" \")\n",
    "\n",
    "# 숫자를 입력했더라도 현재 문자열 타입이기 때문에 정수형으로 형변환\n",
    "c = int(a) + int(b)\n",
    "\n",
    "print(c)"
   ]
  },
  {
   "cell_type": "markdown",
   "id": "bd3446ef-d34f-4278-bcff-4a99f5cf3239",
   "metadata": {},
   "source": [
    "```python\n",
    "a, b = input().split(\" \")\n",
    "```\n",
    "\n",
    "- 위의 코드에서 a와 b 변수에 바로 형변환을 적용할 수 없을까?\n",
    "\n",
    "- `map` 함수를 사용하면 입력값을 구분한 뒤, 바로 형변환 함수를 적용할 수 있다."
   ]
  },
  {
   "cell_type": "code",
   "execution_count": 17,
   "id": "5700dbbf-920f-47c2-a8b2-df915023f091",
   "metadata": {},
   "outputs": [
    {
     "name": "stdin",
     "output_type": "stream",
     "text": [
      " 123 -123\n"
     ]
    },
    {
     "name": "stdout",
     "output_type": "stream",
     "text": [
      "0\n"
     ]
    }
   ],
   "source": [
    "# 'map' 함수 사용\n",
    "a, b = map(int, input().split(\" \"))\n",
    "\n",
    "print(a + b)"
   ]
  },
  {
   "cell_type": "markdown",
   "id": "b9260a3f-6557-4520-8a0a-4909787367be",
   "metadata": {},
   "source": [
    "---"
   ]
  },
  {
   "cell_type": "markdown",
   "id": "009b2322-340c-44de-bcab-41a539e3cd6a",
   "metadata": {},
   "source": [
    "## 6. <a href=\"https://codeup.kr/problem.php?id=6026\">[기초-값변환] 실수 2개 입력받아 합 계산하기(설명)</a>\n",
    "\n",
    "    실수 2개를 입력받아 합을 출력하시오.\n",
    "    \n",
    "**입력 예시**\n",
    "\n",
    "`0.1`<br>\n",
    "`0.9`\n",
    "\n",
    "**출력 예시**\n",
    "\n",
    "`1.0`"
   ]
  },
  {
   "cell_type": "code",
   "execution_count": 18,
   "id": "6ade7b7a-7ae9-415d-a382-60c7dd6b636f",
   "metadata": {},
   "outputs": [
    {
     "name": "stdin",
     "output_type": "stream",
     "text": [
      " 0.1\n",
      " 0.9\n"
     ]
    },
    {
     "name": "stdout",
     "output_type": "stream",
     "text": [
      "1.0\n"
     ]
    }
   ],
   "source": [
    "# 2개의 값을 입력받아야 하므로, input 함수 두 번 사용\n",
    "a = float(input())\n",
    "b = float(input())\n",
    "\n",
    "print(a + b)"
   ]
  },
  {
   "cell_type": "markdown",
   "id": "0e95bc64-b4d8-47f7-a380-59aaa575cbc7",
   "metadata": {},
   "source": [
    "---"
   ]
  },
  {
   "cell_type": "markdown",
   "id": "79664258-180d-4c61-8408-7123939e6ee4",
   "metadata": {},
   "source": [
    "## 7. <a href=\"https://codeup.kr/problem.php?id=6027\">[기초-출력변환] 10진 정수 입력받아 16진수로 출력하기1(설명)</a>\n",
    "\n",
    "    10진수를 입력받아 16진수(Hexadecimal)로 출력하시오.\n",
    "    \n",
    "**입력 예시**\n",
    "\n",
    "`255`\n",
    "\n",
    "**출력 예시**\n",
    "\n",
    "`ff`"
   ]
  },
  {
   "cell_type": "markdown",
   "id": "f718336a-5074-4062-856d-3457e0aca67e",
   "metadata": {},
   "source": [
    "- 10진수를 입력받아 16진수로 출력하기 위해서는 문자열 포맷팅을 사용한다.\n",
    "\n",
    "- `%d` : 십진수\n",
    "\n",
    "- `%x` : 16진수\n",
    "\n",
    "- `%o` : 8진수"
   ]
  },
  {
   "cell_type": "code",
   "execution_count": 19,
   "id": "be8c5d43-f3f6-4862-9f34-07cc9d5ad6a5",
   "metadata": {},
   "outputs": [
    {
     "name": "stdin",
     "output_type": "stream",
     "text": [
      " 255\n"
     ]
    },
    {
     "name": "stdout",
     "output_type": "stream",
     "text": [
      "ff\n"
     ]
    }
   ],
   "source": [
    "a = int(input())\n",
    "\n",
    "print(\"%x\" %a)"
   ]
  },
  {
   "cell_type": "markdown",
   "id": "f4f4415c-2352-4c32-b1ad-d230af845917",
   "metadata": {},
   "source": [
    "---"
   ]
  },
  {
   "cell_type": "markdown",
   "id": "b972ac30-cb2c-4729-ade0-d7d3137a1fb5",
   "metadata": {},
   "source": [
    "## 8. <a href=\"https://codeup.kr/problem.php?id=6028\">[기초-출력변환] 10진 정수 입력받아 16진수로 출력하기2(설명)</a>\n",
    "\n",
    "    10진수를 입력받아 16진수(Hexadecimal)로 출력하시오.\n",
    "    \n",
    "**입력 예시**\n",
    "\n",
    "`255`\n",
    "\n",
    "**출력 예시**\n",
    "\n",
    "`FF`"
   ]
  },
  {
   "cell_type": "code",
   "execution_count": 20,
   "id": "6d97345d-1a0a-4575-90e2-bb17361f310f",
   "metadata": {},
   "outputs": [
    {
     "name": "stdin",
     "output_type": "stream",
     "text": [
      " 255\n"
     ]
    },
    {
     "name": "stdout",
     "output_type": "stream",
     "text": [
      "FF\n"
     ]
    }
   ],
   "source": [
    "a = int(input())\n",
    "\n",
    "print(\"%X\" %a)"
   ]
  },
  {
   "cell_type": "markdown",
   "id": "0634c3fe-65b6-440e-8853-a0d0ece3de33",
   "metadata": {},
   "source": [
    "---"
   ]
  },
  {
   "cell_type": "markdown",
   "id": "0ddcfc5f-bdc1-408f-9d7f-3f9f9c75be1c",
   "metadata": {},
   "source": [
    "## 9. <a href=\"https://codeup.kr/problem.php?id=6029\">[기초-값변환] 16진수 정수 입력받아 8진수로 출력하기(설명)</a>\n",
    "\n",
    "    16진수를 입력받아 8진수(octal)로 출력하시오.\n",
    "\n",
    "**입력 예시**\n",
    "\n",
    "`f`\n",
    "\n",
    "**출력 예시**\n",
    "\n",
    "`17`"
   ]
  },
  {
   "cell_type": "markdown",
   "id": "aa44acd9-2571-480b-a650-137c2a2960fa",
   "metadata": {},
   "source": [
    "- 입력값을 받을 때 16진수의 정수를 입력받지만, Python에서는 10진수로 인식한다.\n",
    "\n",
    "- 따라서 입력값을 받은 후에 int 함수를 사용하여 16진수로 바꿔줘야 한다."
   ]
  },
  {
   "cell_type": "code",
   "execution_count": 12,
   "id": "13761601-55d0-46ac-bc0d-42d71b8b3cb5",
   "metadata": {},
   "outputs": [
    {
     "name": "stdin",
     "output_type": "stream",
     "text": [
      " f\n"
     ]
    },
    {
     "name": "stdout",
     "output_type": "stream",
     "text": [
      "17\n"
     ]
    }
   ],
   "source": [
    "# int 함수의 base 매개변수에 '16'을 넣어주면 16진수로 바꿔준다.\n",
    "a = int(input(), base = 16)\n",
    "\n",
    "# 문자열 포맷팅의 '%o'를 사용하여 8진수로 출력\n",
    "print(\"%o\" %a)"
   ]
  },
  {
   "cell_type": "markdown",
   "id": "e18e67dd-c61b-4f26-ba8c-23bb96486ceb",
   "metadata": {},
   "source": [
    "---"
   ]
  },
  {
   "cell_type": "markdown",
   "id": "9deee4c2-c1cc-4055-a01f-c3e7e12fa1ed",
   "metadata": {},
   "source": [
    "## 10. <a href=\"https://codeup.kr/problem.php?id=6030\">[기초-값변환] 영문자 1개 입력받아 10진수로 변환하기(설명)</a>\n",
    "\n",
    "    영문자 1개를 입력받아 10진수 유니코드(Unicode) 값으로 출력하시오.\n",
    "    \n",
    "**입력 예시**\n",
    "\n",
    "`A`\n",
    "\n",
    "**출력 예시**\n",
    "\n",
    "`65`"
   ]
  },
  {
   "cell_type": "markdown",
   "id": "d586ec67-9525-4775-8d68-d43d41870291",
   "metadata": {},
   "source": [
    "- Python **ord** 함수, **chr** 함수\n",
    "\n",
    "- **ord(문자)**\n",
    "\n",
    "    하나의 문자를 인자로 받고 해당 문자에 해당하는 유니코드 정수를 반환한다.\n",
    "\n",
    "- **chr(정수)**\n",
    "\n",
    "    하나의 정수를 인자로 받고 해당 정수에 해당하는 유니코드 문자를 반환한다."
   ]
  },
  {
   "cell_type": "code",
   "execution_count": 13,
   "id": "115847f1-b82c-4320-a469-1b25b7f20336",
   "metadata": {},
   "outputs": [
    {
     "name": "stdin",
     "output_type": "stream",
     "text": [
      " A\n"
     ]
    },
    {
     "name": "stdout",
     "output_type": "stream",
     "text": [
      "65\n"
     ]
    }
   ],
   "source": [
    "a = ord(input())\n",
    "\n",
    "print(a)"
   ]
  }
 ],
 "metadata": {
  "kernelspec": {
   "display_name": "Python 3 (ipykernel)",
   "language": "python",
   "name": "python3"
  },
  "language_info": {
   "codemirror_mode": {
    "name": "ipython",
    "version": 3
   },
   "file_extension": ".py",
   "mimetype": "text/x-python",
   "name": "python",
   "nbconvert_exporter": "python",
   "pygments_lexer": "ipython3",
   "version": "3.9.9"
  }
 },
 "nbformat": 4,
 "nbformat_minor": 5
}
