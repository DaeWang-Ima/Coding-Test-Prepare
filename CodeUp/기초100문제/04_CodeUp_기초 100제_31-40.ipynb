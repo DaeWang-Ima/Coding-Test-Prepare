{
 "cells": [
  {
   "cell_type": "markdown",
   "id": "16801286-f09e-4f33-95a8-acce4b5b6108",
   "metadata": {},
   "source": [
    "# 문제 31 ~ 문제 40"
   ]
  },
  {
   "cell_type": "markdown",
   "id": "b8372f31-6076-4afb-b2d8-81af966d7ad6",
   "metadata": {},
   "source": [
    "## 1. <a href=\"https://codeup.kr/problem.php?id=6031\">[기초-값변환] 정수 입력받아 유니코드 문자로 변환하기(설명)</a>\n",
    "\n",
    "    10진 정수 1개를 입력받아 유니코드 문자로 출력하시오.\n",
    "    \n",
    "**입력 예시**\n",
    "\n",
    "`65`\n",
    "\n",
    "**출력 예시**\n",
    "\n",
    "`A`"
   ]
  },
  {
   "cell_type": "markdown",
   "id": "76fc4bf0-4333-464a-87bb-c97cb8261899",
   "metadata": {},
   "source": [
    "- Python **ord** 함수, **chr** 함수\n",
    "\n",
    "- **ord(문자)**\n",
    "\n",
    "    하나의 문자를 인자로 받고 해당 문자에 해당하는 유니코드 정수를 반환한다.\n",
    "    \n",
    "- **chr(숫자)**\n",
    "\n",
    "    하나의 정수를 인자로 받고 해당 정수에 해당하는 유니코드 문자를 반환한다."
   ]
  },
  {
   "cell_type": "code",
   "execution_count": 2,
   "id": "bc8f7c77-65f3-43cb-b8d5-a6760ecaa198",
   "metadata": {},
   "outputs": [
    {
     "name": "stdin",
     "output_type": "stream",
     "text": [
      " 65\n"
     ]
    },
    {
     "name": "stdout",
     "output_type": "stream",
     "text": [
      "A\n"
     ]
    }
   ],
   "source": [
    "a = chr(int(input()))\n",
    "\n",
    "print(a)"
   ]
  },
  {
   "cell_type": "markdown",
   "id": "51737cb2-d6db-4861-ba6e-5e20f2f2d1c7",
   "metadata": {},
   "source": [
    "---"
   ]
  },
  {
   "cell_type": "markdown",
   "id": "f7e346ba-c02c-48bc-9227-4ca4bddc4e6a",
   "metadata": {},
   "source": [
    "## 2. <a href=\"https://codeup.kr/problem.php?id=6032\">[기초-산술연산] 정수 1개 입력받아 부호 바꾸기(설명)</a>\n",
    "\n",
    "    입력된 정수의 부호를 바꿔 출력하시오.\n",
    "    \n",
    "**입력 예시**\n",
    "\n",
    "`-1`\n",
    "\n",
    "**출력 예시**\n",
    "\n",
    "`1`"
   ]
  },
  {
   "cell_type": "code",
   "execution_count": 3,
   "id": "9cee9442-fa7a-43ef-b7fb-adf7c3d72afd",
   "metadata": {},
   "outputs": [
    {
     "name": "stdin",
     "output_type": "stream",
     "text": [
      " -1\n"
     ]
    },
    {
     "name": "stdout",
     "output_type": "stream",
     "text": [
      "1\n"
     ]
    }
   ],
   "source": [
    "value = int(input())\n",
    "\n",
    "print(-value)"
   ]
  },
  {
   "cell_type": "markdown",
   "id": "bb7c4906-ce71-4bfc-8638-4a517a117ba7",
   "metadata": {},
   "source": [
    "---"
   ]
  },
  {
   "cell_type": "markdown",
   "id": "4139a237-439e-40cf-bc45-dc2920bd3305",
   "metadata": {},
   "source": [
    "## 3. <a href=\"https://codeup.kr/problem.php?id=6033\">[기초-산술연산] 문자 1개 입력받아 다음 문자 출력하기</a>\n",
    "\n",
    "    문자 1개를 입력받아 그 다음 문자를 출력하시오.\n",
    "    \n",
    "    영문자 'A'의 다음 문자는 'B'이고, 숫자 '0'의 다음 문자는 '1' 이다.\n",
    "    \n",
    "**입력 예시**\n",
    "\n",
    "`a`\n",
    "\n",
    "**출력 예시**\n",
    "\n",
    "`b`"
   ]
  },
  {
   "cell_type": "code",
   "execution_count": 9,
   "id": "b2dc32f4-50f4-4ace-9989-6da21f469abd",
   "metadata": {},
   "outputs": [
    {
     "name": "stdin",
     "output_type": "stream",
     "text": [
      " a\n"
     ]
    },
    {
     "name": "stdout",
     "output_type": "stream",
     "text": [
      "b\n"
     ]
    }
   ],
   "source": [
    "# 문자를 입력받은 후, 그 다음 문자를 구하기 위해서 1을 더해주어야 한다.\n",
    "# 따라서 'ord' 함수를 사용해 문자에 해당되는 유니코드 정수를 반환하도록 한다.\n",
    "value = ord(input())\n",
    "\n",
    "# 값을 입력받은 후, 'chr' 함수를 사용하여 정수에 해당되는 유니코드 문자를 반환한다.\n",
    "print(chr(value + 1))"
   ]
  },
  {
   "cell_type": "markdown",
   "id": "7950b766-b9b6-4009-a368-7e337d4a56e9",
   "metadata": {},
   "source": [
    "---"
   ]
  },
  {
   "cell_type": "markdown",
   "id": "69e7a83a-1b2c-4e60-9500-ef3e8530ff6e",
   "metadata": {},
   "source": [
    "## 4. <a href=\"https://codeup.kr/problem.php?id=6034\">[기초-산술연산] 정수 2개 입력받아 차 계산하기(설명)</a>\n",
    "\n",
    "    정수 2개(a, b)를 입력받아 a에서 b를 뺀 차를 출력하는 프로그램을 작성하시오.\n",
    "\n",
    "**입력 예시**\n",
    "\n",
    "`123 -123`\n",
    "\n",
    "**출력 예시**\n",
    "\n",
    "`246`"
   ]
  },
  {
   "cell_type": "code",
   "execution_count": 10,
   "id": "85d971d9-616c-4557-8181-f96c5b1b66e4",
   "metadata": {},
   "outputs": [
    {
     "name": "stdin",
     "output_type": "stream",
     "text": [
      " 123 -123\n"
     ]
    },
    {
     "name": "stdout",
     "output_type": "stream",
     "text": [
      "246\n"
     ]
    }
   ],
   "source": [
    "a, b = map(int, input().split())\n",
    "\n",
    "print(a - b)"
   ]
  },
  {
   "cell_type": "markdown",
   "id": "85cf339c-9ad3-4579-8204-0fe2d1bc30fa",
   "metadata": {},
   "source": [
    "## 5. <a href=\"https://codeup.kr/problem.php?id=6035\">[기초-산술연산] 실수 2개 입력받아 곱 계산하기(설명)</a>\n",
    "\n",
    "    실수 2개(f1, f2)를 입력받아 곱을 출력하는 프로그램을 작성하시오.\n",
    "    \n",
    "**입력 예시**\n",
    "\n",
    "`0.5 2.0`\n",
    "\n",
    "**출력 예시**\n",
    "\n",
    "`1.0`"
   ]
  },
  {
   "cell_type": "code",
   "execution_count": 11,
   "id": "b0a608c2-3097-4fac-b327-2aea335c0794",
   "metadata": {},
   "outputs": [
    {
     "name": "stdin",
     "output_type": "stream",
     "text": [
      " 0.5 2.0\n"
     ]
    },
    {
     "name": "stdout",
     "output_type": "stream",
     "text": [
      "1.0\n"
     ]
    }
   ],
   "source": [
    "f1, f2 = map(float, input().split())\n",
    "\n",
    "print(f1 * f2)"
   ]
  },
  {
   "cell_type": "markdown",
   "id": "7af7a10a-c394-4412-98b4-49351f19803f",
   "metadata": {},
   "source": [
    "---"
   ]
  },
  {
   "cell_type": "markdown",
   "id": "6880958f-bb18-4b06-af38-2b22347695b3",
   "metadata": {},
   "source": [
    "## 6. <a href=\"https://codeup.kr/problem.php?id=6036\">[기초-산술연산] 단어 여러 번 출력하기(설명)</a>\n",
    "\n",
    "    단어와 반복 횟수를 입력받아 여러 번 출력하시오.\n",
    "\n",
    "**입력 예시**\n",
    "\n",
    "`love 3`\n",
    "\n",
    "**출력 예시**\n",
    "\n",
    "`lovelovelove`"
   ]
  },
  {
   "cell_type": "code",
   "execution_count": 12,
   "id": "8ceba781-ea83-450e-8c81-80c906619944",
   "metadata": {},
   "outputs": [
    {
     "name": "stdin",
     "output_type": "stream",
     "text": [
      " love 3\n"
     ]
    },
    {
     "name": "stdout",
     "output_type": "stream",
     "text": [
      "lovelovelove\n"
     ]
    }
   ],
   "source": [
    "word, repeat = input().split()\n",
    "\n",
    "print(word * int(repeat))"
   ]
  },
  {
   "cell_type": "markdown",
   "id": "0905f6e2-f0ed-4760-b78b-f78cdffc14fc",
   "metadata": {},
   "source": [
    "---"
   ]
  },
  {
   "cell_type": "markdown",
   "id": "0694a6a9-6d97-43e8-a0b4-2c93d944ee5b",
   "metadata": {},
   "source": [
    "## 7. <a href=\"https://codeup.kr/problem.php?id=6037\">[기초-산술연산] 문장 여러 번 출력하기(설명)</a>\n",
    "\n",
    "    반복 횟수와 문장을 입력받아 여러 번 출력해보자.\n",
    "    \n",
    "**입력 예시**\n",
    "\n",
    "`3`<br>\n",
    "`I love CS`\n",
    "\n",
    "**출력 예시**\n",
    "\n",
    "`I love CSI love CSI love CS`"
   ]
  },
  {
   "cell_type": "code",
   "execution_count": 13,
   "id": "4f1877bc-3c2c-427d-8f01-f371bb7a925f",
   "metadata": {},
   "outputs": [
    {
     "name": "stdin",
     "output_type": "stream",
     "text": [
      " 3\n",
      " I love CS\n"
     ]
    },
    {
     "name": "stdout",
     "output_type": "stream",
     "text": [
      "I love CSI love CSI love CS\n"
     ]
    }
   ],
   "source": [
    "number = int(input())\n",
    "word = input()\n",
    "\n",
    "print(word * number)"
   ]
  },
  {
   "cell_type": "markdown",
   "id": "1a735435-a88b-40b0-b8b0-4fc800bf1119",
   "metadata": {},
   "source": [
    "---"
   ]
  },
  {
   "cell_type": "markdown",
   "id": "69c489f1-eb47-460a-8bcb-1fee8c6cf079",
   "metadata": {},
   "source": [
    "## 8. <a href=\"https://codeup.kr/problem.php?id=6038\">[기초-산술연산] 정수 2개 입력받아 거듭제곱 계산하기(설명)</a>\n",
    "\n",
    "    정수 2개(a, b)를 입력받아 a를 b 거듭제곱한 값을 출력하시오.\n",
    "    \n",
    "**입력 예시**\n",
    "\n",
    "`2 10`\n",
    "\n",
    "**출력 예시**\n",
    "\n",
    "`1024`"
   ]
  },
  {
   "cell_type": "code",
   "execution_count": 14,
   "id": "11c235f4-daec-4f4e-8ef6-abe26b3045d0",
   "metadata": {},
   "outputs": [
    {
     "name": "stdin",
     "output_type": "stream",
     "text": [
      " 2 10\n"
     ]
    },
    {
     "name": "stdout",
     "output_type": "stream",
     "text": [
      "1024\n"
     ]
    }
   ],
   "source": [
    "a, b = map(int, input().split())\n",
    "\n",
    "print(a ** b)"
   ]
  },
  {
   "cell_type": "markdown",
   "id": "e2466418-5d2f-4c81-aa57-61a22bc09d5c",
   "metadata": {},
   "source": [
    "---"
   ]
  },
  {
   "cell_type": "markdown",
   "id": "2356ed78-1143-4517-a88b-78dcd5302298",
   "metadata": {
    "tags": []
   },
   "source": [
    "## 9. <a href=\"https://codeup.kr/problem.php?id=6039\">[기초-산술연산] 실수 2개 입력받아 거듭제곱 계산하기</a>\n",
    "\n",
    "    실수 2개(f1, f2)를 입력받아 f1을 f2 거듭제곱한 값을 출력하시오.\n",
    "    \n",
    "**입력 예시**\n",
    "\n",
    "`4.0 2.0`\n",
    "\n",
    "**출력 예시**\n",
    "\n",
    "`16.0`"
   ]
  },
  {
   "cell_type": "code",
   "execution_count": 15,
   "id": "51b90421-0919-479e-9ad6-ba7f54a1c241",
   "metadata": {},
   "outputs": [
    {
     "name": "stdin",
     "output_type": "stream",
     "text": [
      " 4.0 2.0\n"
     ]
    },
    {
     "name": "stdout",
     "output_type": "stream",
     "text": [
      "16.0\n"
     ]
    }
   ],
   "source": [
    "f1, f2 = map(float, input().split())\n",
    "\n",
    "print(f1 ** f2)"
   ]
  },
  {
   "cell_type": "markdown",
   "id": "4ff5069a-4cfc-48b5-b64e-125e3461c255",
   "metadata": {},
   "source": [
    "## 10. <a href=\"https://codeup.kr/problem.php?id=6040\">[기초-산술연산] 정수 2개 입력받아 나눈 몫 계산하기(설명)</a>\n",
    "\n",
    "    정수 2개(a, b)를 입력받아 a를 b로 나눈 몫을 출력하시오.\n",
    "    \n",
    "**입력 예시**\n",
    "\n",
    "`10 3`\n",
    "\n",
    "**출력 예시**\n",
    "\n",
    "`3`"
   ]
  },
  {
   "cell_type": "code",
   "execution_count": 16,
   "id": "96f04deb-c620-4daa-87ba-0e138828ef6b",
   "metadata": {},
   "outputs": [
    {
     "name": "stdin",
     "output_type": "stream",
     "text": [
      " 10 3\n"
     ]
    },
    {
     "name": "stdout",
     "output_type": "stream",
     "text": [
      "3\n"
     ]
    }
   ],
   "source": [
    "a, b = map(int, input().split())\n",
    "\n",
    "print(a // b)"
   ]
  }
 ],
 "metadata": {
  "kernelspec": {
   "display_name": "Python 3 (ipykernel)",
   "language": "python",
   "name": "python3"
  },
  "language_info": {
   "codemirror_mode": {
    "name": "ipython",
    "version": 3
   },
   "file_extension": ".py",
   "mimetype": "text/x-python",
   "name": "python",
   "nbconvert_exporter": "python",
   "pygments_lexer": "ipython3",
   "version": "3.9.9"
  }
 },
 "nbformat": 4,
 "nbformat_minor": 5
}
