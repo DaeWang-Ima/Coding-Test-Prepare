{
 "cells": [
  {
   "cell_type": "markdown",
   "id": "0552511c-0fd9-4969-a8e9-286611f86572",
   "metadata": {},
   "source": [
    "# <a href=\"https://programmers.co.kr/learn/courses/30/lessons/76501\">문제 설명</a>"
   ]
  },
  {
   "cell_type": "markdown",
   "id": "196d983d-11fa-46a9-9dfd-dcd8f81fa682",
   "metadata": {},
   "source": [
    "어떤 정수들이 있습니다. 이 정수들의 절댓값을 차례대로 담은 정수 배열 absolutes와 이 정수들의 부호를 차례대로 담은 불리언 배열 signs가 매개변수로 주어집니다.\n",
    "\n",
    "실제로 정수들의 합을 구하여 return 하도록 solution 함수를 완성해주세요.\n",
    "\n",
    "**제한사항**\n",
    "\n",
    "- absolutes의 길이는 1이상 1,000 이하입니다.\n",
    "\n",
    "    - absolutes의 모든 수는 각각 1 이상 1,000 이하입니다.<br><br>\n",
    "    \n",
    "- signs의 길이는 absolutes의 길이와 같습니다.\n",
    "\n",
    "    - `signs[i]`가 참이면 `absolutes[i]`의 실제 정수가 양수임을, 그렇지 않으면 음수임을 의미합니다.\n",
    "    \n",
    "**입출력 예시**\n",
    "\n",
    "|absolutes|signs|result|\n",
    "|-----|-----|-----|\n",
    "|[4, 7, 12]|[true, false, true]|9|\n",
    "|[1, 2, 3]|[false, false, true]|0|"
   ]
  },
  {
   "cell_type": "markdown",
   "id": "a1873401-9b9d-4797-8f25-632d3d15cbe4",
   "metadata": {},
   "source": [
    "---"
   ]
  },
  {
   "cell_type": "markdown",
   "id": "2b0ecf93-9e54-459f-a1c0-41ab21d498d6",
   "metadata": {},
   "source": [
    "## My Solution\n",
    "\n",
    "- 해당 문제는 리스트 컴프리헨션으로 손쉽게 풀 수 있다."
   ]
  },
  {
   "cell_type": "code",
   "execution_count": 3,
   "id": "d6bdbba9-35a6-47de-9dc2-9e23bbec333b",
   "metadata": {},
   "outputs": [],
   "source": [
    "# 문제 함수 생성\n",
    "def solution(absolutes, signs):\n",
    "    \n",
    "    # 리스트 컴프리헨션 사용\n",
    "    answer = sum([absolutes[index] if signs[index] == True else -absolutes[index] for index in range(len(absolutes))])\n",
    "    \n",
    "    return answer"
   ]
  },
  {
   "cell_type": "code",
   "execution_count": 5,
   "id": "5ddf7aa7-5c4a-414e-8a0f-0757ffe71b7b",
   "metadata": {},
   "outputs": [
    {
     "name": "stdout",
     "output_type": "stream",
     "text": [
      "9\n"
     ]
    }
   ],
   "source": [
    "# 첫 번째 테스트 수행\n",
    "absolutes = [4, 7, 12]\n",
    "signs = [True, False, True]\n",
    "\n",
    "print(solution(absolutes, signs))"
   ]
  },
  {
   "cell_type": "code",
   "execution_count": 6,
   "id": "f2ee50a2-8b89-4dfe-9666-ef73a405f75b",
   "metadata": {},
   "outputs": [
    {
     "name": "stdout",
     "output_type": "stream",
     "text": [
      "0\n"
     ]
    }
   ],
   "source": [
    "# 두 번째 테스트 수행\n",
    "absolutes = [1, 2, 3]\n",
    "signs = [False, False, True]\n",
    "\n",
    "print(solution(absolutes, signs))"
   ]
  }
 ],
 "metadata": {
  "kernelspec": {
   "display_name": "Python 3 (ipykernel)",
   "language": "python",
   "name": "python3"
  },
  "language_info": {
   "codemirror_mode": {
    "name": "ipython",
    "version": 3
   },
   "file_extension": ".py",
   "mimetype": "text/x-python",
   "name": "python",
   "nbconvert_exporter": "python",
   "pygments_lexer": "ipython3",
   "version": "3.9.9"
  }
 },
 "nbformat": 4,
 "nbformat_minor": 5
}
