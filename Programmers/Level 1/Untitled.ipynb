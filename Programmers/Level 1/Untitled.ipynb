{
 "cells": [
  {
   "cell_type": "code",
   "execution_count": null,
   "id": "94143a30-9995-4562-97b5-c727b32856ef",
   "metadata": {},
   "outputs": [
    {
     "data": {
      "text/plain": [
       "['one2three']"
      ]
     },
     "execution_count": 2,
     "metadata": {},
     "output_type": "execute_result"
    }
   ],
   "source": [
    "'one2three'"
   ]
  },
  {
   "cell_type": "code",
   "execution_count": 3,
   "id": "a38891c9-3189-4c20-96f7-582449345aa5",
   "metadata": {},
   "outputs": [],
   "source": [
    "import re"
   ]
  },
  {
   "cell_type": "code",
   "execution_count": null,
   "id": "96de4944-522e-4a55-8a6b-01b17b5069c6",
   "metadata": {},
   "outputs": [],
   "source": [
    "re.sub(\"one2three\", \"\")"
   ]
  }
 ],
 "metadata": {
  "kernelspec": {
   "display_name": "Python 3",
   "language": "python",
   "name": "python3"
  },
  "language_info": {
   "codemirror_mode": {
    "name": "ipython",
    "version": 3
   },
   "file_extension": ".py",
   "mimetype": "text/x-python",
   "name": "python",
   "nbconvert_exporter": "python",
   "pygments_lexer": "ipython3",
   "version": "3.8.12"
  }
 },
 "nbformat": 4,
 "nbformat_minor": 5
}
