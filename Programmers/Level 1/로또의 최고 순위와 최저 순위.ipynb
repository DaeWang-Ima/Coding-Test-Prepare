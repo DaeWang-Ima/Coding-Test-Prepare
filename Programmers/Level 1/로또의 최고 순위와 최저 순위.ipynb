{
 "cells": [
  {
   "cell_type": "markdown",
   "id": "2c0a8130-79c7-4a2d-8bad-34fdb01b9a50",
   "metadata": {},
   "source": [
    "# <a href=\"https://programmers.co.kr/learn/courses/30/lessons/77484\">문제 설명</a>\n",
    "\n",
    "로또는 1부터 45까지의 숫자 중 6개를 찍어서 맞히는 대표적인 복권입니다. 아래는 로또의 순위를 정하는 방식입니다.\n",
    "\n",
    "|순위|당첨 내용|\n",
    "|-----|-----|\n",
    "|1|6개 번호가 모두 일치|\n",
    "|2|5개 번호가 일치|\n",
    "|3|4개 번호가 일치|\n",
    "|4|3개 번호가 일치|\n",
    "|5|2개 번호가 일치|\n",
    "|6(낙첨)|그 외|\n",
    "\n",
    "로또를 구매한 민우는 당첨 번호 발표일을 학수고대하고 있었습니다. 하지만, 민우의 동생이 로또에 낙서를 하여, 일부 번호를 알아볼 수 없게 되었습니다. 당첨 번호 발표 후, 민우는 자신이 구매했던 최고 순위와 최저 순위를 알아보고 싶어 졌습니다.\n",
    "\n",
    "알아볼수 없는 번호를 0으로 표기하기로 하고, 민우가 구매한 로또 번호 6개가 `44, 1, 0, 0, 31, 25`라고 가정해보겠습니다. 당첨 번호 6개가 `31, 10, 45, 1, 6, 19` 라면, 당첨 가능한 최고 순위와 최저 순위의 한 예는 아래와 같습니다.\n",
    "\n",
    "|당첨 번호|31|10|45|1|6|19|결과|\n",
    "|-----|-----|-----|-----|-----|-----|-----|-----|\n",
    "|최고 순위 번호|**31**|0 → 10|44|**1**|0 → 6|25|4개 번호 일치, 3등|\n",
    "|최저 순위 번호|**31**|0 → 11|44|**1**|0 → 7|25|2개 번호 일치, 5등|\n",
    "\n",
    "- 순서와 상관없이, 구매한 로또에 당첨 번호와 일치하는 번호가 있으면 맞힌 걸로 인정됩니다.\n",
    "\n",
    "- 알아볼 수 없는 두 개의 번호를 각각 10, 6 이라고 가정하면 3등에 당첨될 수 있습니다.\n",
    "\n",
    "    - 3등을 만드는 다른 방법들도 존재합니다. 하지만, 2등 이상으로 만드는 것은 불가능합니다.<br><br>\n",
    "    \n",
    "- 알아볼 수 없는 두 개의 번호를 각각 11, 7 이라고 가정하면 5등에 당첨될 수 있습니다.\n",
    "\n",
    "    - 5등을 만드는 다른 방법들도 존재합니다. 하지만, 6등(낙첨)으로 만드는 것을 불가능합니다.\n",
    "    \n",
    "민우가 구매하 로또 번호를 담은 배열 lottos, 당첨 번호를 담은 배열 win_nums가 매개변수로 주어집니다. 이때, 당첨 가능한 최고 순위와 최저 순위를 차례대로 배열에 담아서 return 하도록 solution 함수를 완성해주세요.\n",
    "\n",
    "\n",
    "**제한사항**\n",
    "\n",
    "- lottos는 길이 6인 정수 배열입니다.\n",
    "\n",
    "- lottos의 모든 원소는 0 이상 45 이하인 정수입니다.\n",
    "\n",
    "    - 0은 알아볼 수 없는 숫자를 의미합니다.<br><br>\n",
    "    \n",
    "    - 0을 제외한 다른 숫자들은 lottos에 2개 이상 담겨있지 않습니다.<br><br>\n",
    "    \n",
    "    - lottos의 원소들은 정렬되어 있지 않을 수도 있습니다.<br><br>\n",
    "    \n",
    "- win_nums은 길이 6인 정수 배열입니다.\n",
    "\n",
    "- win_nums의 모든 원소는 1이상 45 이하인 정수입니다.\n",
    "\n",
    "    - win_nums에는 같은 숫자가 2개 이상 담겨있지 않습니다.<br><br>\n",
    "    \n",
    "    - win_nums의 원소들은 정렬되어 있지 않을 수도 있습니다.\n",
    "    \n",
    "    \n",
    "**입출력 예시**\n",
    "\n",
    "|lottos|win_nums|result|\n",
    "|-----|-----|-----|\n",
    "|[44, 1, 0, 0, 31, 25]|[31, 10, 45, 1, 6, 19]|[3, 5]|\n",
    "|[0, 0, 0, 0, 0, 0]|[38, 19, 20, 40, 15, 25]|[1, 6]|\n",
    "|[45, 4, 35, 20, 3, 9]|[20, 9, 3, 45, 4, 35]|[1, 1]|"
   ]
  },
  {
   "cell_type": "markdown",
   "id": "403e4a61-edf4-45b7-9cda-745811c460b6",
   "metadata": {},
   "source": [
    "## My Solution\n",
    "\n",
    "- 해당 문제는 `lottos` 매개변수에 들어오는 배열에서 0의 개수에 따라서 최고 순위가 변하게 된다.\n",
    "\n",
    "- 0의 개수에 따라 변하는 중간 순위는 생각해줄 필요가 없기 때문에, 최저 순위를 구하고 0의 개수에 따라 변하는 최고 순위를 구해주면 된다."
   ]
  },
  {
   "cell_type": "code",
   "execution_count": 1,
   "id": "a38891c9-3189-4c20-96f7-582449345aa5",
   "metadata": {},
   "outputs": [],
   "source": [
    "# 문제 함수 생성\n",
    "def solution(lottos, win_nums):\n",
    "    \n",
    "    # 우선 'lottos' 매개변수에 입력되는 배열에 0이 몇 개 들어있는지 저장해주도록 한다.\n",
    "    zero_count = lottos.count(0)\n",
    "    \n",
    "    # 다음으로 'lottos' 배열에서 'win_nums' 배열과 같은 숫자를 리스트에 저장한다.\n",
    "    same_list = [value for value in lottos if value in win_nums]\n",
    "    \n",
    "    # 위에서 생성한 'same_list'의 길이를 사용하여 '최저 순위'를 결정지을 수 있다. → 최저 순위 = 7 - len(same_list)\n",
    "    # 단, same_list의 길이가 0인 경우에도 최저 순위가 6이므로 따로 지정해주도록 한다. \n",
    "    if len(same_list) == 0:\n",
    "        low_rank = 6\n",
    "    \n",
    "    # 그 외의 경우에는 7에서 길이를 빼주면 된다.\n",
    "    else:\n",
    "        low_rank = 7 - len(same_list)\n",
    "        \n",
    "    # 최고 순위는 0의 개수에 따라서 달라진다.\n",
    "    # 만약, 최저 순위가 3등이라고 가정했을 때 0의 개수가 1개라면 최고 순위는 2등이고, 0의 개수가 2개라면 최고 순위는 1등이다.\n",
    "    # 즉, 위에서 구한 '최저 순위'에서 0의 개수를 빼주면 된다.\n",
    "    # 단, 일치하는 개수가 하나도 없고 모두 0으로 이루어진 배열은 최고 순위의 값이 0이 되므로, 예외 조건을 걸어서 1등으로 만들어준다.\n",
    "    if (low_rank - zero_count) == 0:\n",
    "        high_rank = 1\n",
    "    \n",
    "    else:\n",
    "        high_rank = low_rank - zero_count\n",
    "    \n",
    "    # 반환값은 리스트이므로 리스트 객체를 만들어 준다.\n",
    "    answer = [high_rank, low_rank]\n",
    "    \n",
    "    return answer"
   ]
  },
  {
   "cell_type": "code",
   "execution_count": 2,
   "id": "96de4944-522e-4a55-8a6b-01b17b5069c6",
   "metadata": {},
   "outputs": [
    {
     "name": "stdout",
     "output_type": "stream",
     "text": [
      "[3, 5]\n"
     ]
    }
   ],
   "source": [
    "# 첫 번째 테스트 수행\n",
    "lottos = [44, 1, 0, 0, 31, 25]\n",
    "win_nums = [31, 10, 45, 1, 6, 19]\n",
    "\n",
    "print(solution(lottos, win_nums))"
   ]
  },
  {
   "cell_type": "code",
   "execution_count": 4,
   "id": "2f37826d-3b7d-4349-b91b-2a3d2f5941bb",
   "metadata": {},
   "outputs": [
    {
     "name": "stdout",
     "output_type": "stream",
     "text": [
      "[1, 6]\n"
     ]
    }
   ],
   "source": [
    "# 두 번째 테스트 수행\n",
    "lottos = [0, 0, 0, 0, 0, 0]\n",
    "win_nums = [38, 19, 20, 40, 15, 25]\n",
    "\n",
    "print(solution(lottos, win_nums))"
   ]
  },
  {
   "cell_type": "code",
   "execution_count": 5,
   "id": "2b92ada7-1300-47fe-9230-765aeb26e6d9",
   "metadata": {},
   "outputs": [
    {
     "name": "stdout",
     "output_type": "stream",
     "text": [
      "[1, 1]\n"
     ]
    }
   ],
   "source": [
    "# 첫 번째 테스트 수행\n",
    "lottos = [45, 4, 35, 20, 3, 9]\n",
    "win_nums = [20, 9, 3, 45, 4, 35]\n",
    "\n",
    "print(solution(lottos, win_nums))"
   ]
  },
  {
   "cell_type": "markdown",
   "id": "44ec8351-1a3c-48d8-b281-7146865c2f44",
   "metadata": {},
   "source": [
    "- if-else 구문을 두 번 사용해서 풀긴 했지만, 뭔가 마음에 들지 않는 풀이 방법이다.."
   ]
  },
  {
   "cell_type": "markdown",
   "id": "e36fe0b6-48d3-4bf0-b3e3-833ecba9908a",
   "metadata": {},
   "source": [
    "---"
   ]
  },
  {
   "cell_type": "markdown",
   "id": "79fe43f6-8bd5-4d35-99ce-a2fba22cbeb1",
   "metadata": {},
   "source": [
    "## Another Solution 1"
   ]
  },
  {
   "cell_type": "code",
   "execution_count": 8,
   "id": "23929377-f320-4bf9-9e0e-b533ab29d2a4",
   "metadata": {},
   "outputs": [],
   "source": [
    "# 문제 함수 생성\n",
    "def solution(lottos, win_nums):\n",
    "    \n",
    "    # 수 일치에 따른 순위를 리스트로 생성해주도록 한다.\n",
    "    rank = [6, 6, 5, 4, 3, 2, 1]\n",
    "    \n",
    "    # 'lottos' 매개변수에 입력되는 배열에 0이 몇 개 들어있는지 저장\n",
    "    cnt_0 = lottos.count(0)\n",
    "    \n",
    "    # 리스트에서 인덱싱이 활용 가능\n",
    "    list_index = 0\n",
    "    \n",
    "    for x in win_nums:\n",
    "        if x in lottos:\n",
    "            list_index += 1\n",
    "    \n",
    "    return [rank[cnt_0 + list_index], rank[list_index]]"
   ]
  },
  {
   "cell_type": "code",
   "execution_count": 9,
   "id": "b9fa5bdb-dcc1-429b-ac3a-cbff03669a88",
   "metadata": {},
   "outputs": [
    {
     "name": "stdout",
     "output_type": "stream",
     "text": [
      "[3, 5]\n"
     ]
    }
   ],
   "source": [
    "# 첫 번째 테스트 수행\n",
    "lottos = [44, 1, 0, 0, 31, 25]\n",
    "win_nums = [31, 10, 45, 1, 6, 19]\n",
    "\n",
    "print(solution(lottos, win_nums))"
   ]
  },
  {
   "cell_type": "code",
   "execution_count": 10,
   "id": "d5d582ee-0b5a-48ec-840f-d31efc70aa10",
   "metadata": {},
   "outputs": [
    {
     "name": "stdout",
     "output_type": "stream",
     "text": [
      "[1, 6]\n"
     ]
    }
   ],
   "source": [
    "# 두 번째 테스트 수행\n",
    "lottos = [0, 0, 0, 0, 0, 0]\n",
    "win_nums = [38, 19, 20, 40, 15, 25]\n",
    "\n",
    "print(solution(lottos, win_nums))"
   ]
  },
  {
   "cell_type": "code",
   "execution_count": 11,
   "id": "69548392-2e84-4acb-bf73-a7f0fc6819c1",
   "metadata": {},
   "outputs": [
    {
     "name": "stdout",
     "output_type": "stream",
     "text": [
      "[1, 1]\n"
     ]
    }
   ],
   "source": [
    "# 첫 번째 테스트 수행\n",
    "lottos = [45, 4, 35, 20, 3, 9]\n",
    "win_nums = [20, 9, 3, 45, 4, 35]\n",
    "\n",
    "print(solution(lottos, win_nums))"
   ]
  }
 ],
 "metadata": {
  "kernelspec": {
   "display_name": "Python 3 (ipykernel)",
   "language": "python",
   "name": "python3"
  },
  "language_info": {
   "codemirror_mode": {
    "name": "ipython",
    "version": 3
   },
   "file_extension": ".py",
   "mimetype": "text/x-python",
   "name": "python",
   "nbconvert_exporter": "python",
   "pygments_lexer": "ipython3",
   "version": "3.9.9"
  }
 },
 "nbformat": 4,
 "nbformat_minor": 5
}
