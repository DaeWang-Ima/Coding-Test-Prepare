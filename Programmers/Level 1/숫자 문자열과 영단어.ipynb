{
 "cells": [
  {
   "cell_type": "markdown",
   "id": "3b4a72e5-50d1-45b5-8299-14095406518f",
   "metadata": {},
   "source": [
    "# <a href=\"https://programmers.co.kr/learn/courses/30/lessons/81301\">문제 설명</a>\n",
    "\n",
    "네오와 프로도가 숫자놀이를 하고 있습니다. 네오가 프로도에게 숫자를 건넬 때 일부 자릿수를 영단어로 바꾼 카드를 건네주면 프로도는 원래 숫자를 찾는 게임입니다.\n",
    "\n",
    "다음은 숫자의 일부 자릿수를 영단어로 바꾸는 예시입니다.\n",
    "\n",
    "- 1478 → \"one4seveneight\"\n",
    "\n",
    "- 234567 → \"23four5six7\"\n",
    "\n",
    "- 10203 → \"1zerotwozero3\"\n",
    "\n",
    "이렇세 숫자의 일부 자릿수가 영단어로 바뀌어졌거나, 혹은 바뀌지 않고 그대로인 문자열 `s`가 매개변수로 주어집니다. `s`가 의미하는 원래 숫자를 return 하도록 solution 함수를 완성해주세요.\n",
    "\n",
    "참고로 각 숫자에 대응되는 영단어는 다음 표와 같습니다.\n",
    "\n",
    "|숫자|영단어|\n",
    "|-----|-----|\n",
    "|0|zero|\n",
    "|1|one|\n",
    "|2|two|\n",
    "|3|three|\n",
    "|4|four|\n",
    "|5|five|\n",
    "|6|six|\n",
    "|7|seven|\n",
    "|8|eight|\n",
    "|9|nine|\n",
    "\n",
    "**제한사항**\n",
    "\n",
    "- `s`의 길이는 1이상 50이하이다.\n",
    "\n",
    "- `s`가 \"zero\" 또는 \"0\"으로 시작하는 경우는 주어지지 않습니다.\n",
    "\n",
    "- return 값이 1이상 2,000,000,000 이하의 정수가 되는 올바른 입력만 `s`로 주어집니다.\n",
    "\n",
    "**입출력 예시**\n",
    "\n",
    "|s|result|\n",
    "|-----|-----|\n",
    "|\"one4seveneight\"|1478|\n",
    "|\"23four5six7\"|234567|\n",
    "|\"2three45sixseven\"|234567|\n",
    "|\"123\"|123|"
   ]
  },
  {
   "cell_type": "markdown",
   "id": "b32a65c0-13c0-4dce-99c7-399a516ddc2b",
   "metadata": {},
   "source": [
    "---"
   ]
  },
  {
   "cell_type": "markdown",
   "id": "914bfcd5-762e-4416-b01b-328042152e03",
   "metadata": {},
   "source": [
    "## My Solution\n",
    "\n",
    "- 우선 입출력 예시를 보면 들어올 때의 값은 **문자열** 타입이지만, 반환될 때의 값은 **숫자형** 타입입을 확인할 수 있다.\n",
    "\n",
    "- 문자열에서 숫자로만 이루어져 있는 경우에 Python 에서 `int` 함수를 적용하면 오류 없이 적용된다는 사실을 이용하도록 하자."
   ]
  },
  {
   "cell_type": "code",
   "execution_count": 8,
   "id": "bf0f4eaf-eaf6-4439-914d-69036febe0e5",
   "metadata": {},
   "outputs": [],
   "source": [
    "# 문제 함수 생성\n",
    "def solution(s):\n",
    "    \n",
    "    # Try-Except 구문 사용\n",
    "    try:\n",
    "        \n",
    "        # 문자열에 숫자만 포함된 경우에는 'int' 함수를 적용할 수 있으며, Error가 발생하지 않는다.\n",
    "        answer = int(s)\n",
    "        \n",
    "        return answer\n",
    "    \n",
    "    # 문자열에 숫자와 문자가 포함된 경우에 'int' 함수를 적용하면 Error가 발생한다.\n",
    "    except:\n",
    "        answer = s\n",
    "        \n",
    "        # 바꿀 값들을 dictionary 타입으로 만들어주도록 한다.\n",
    "        # Key 값들을 숫자형으로 입력하면, 오류가 발생한다.\n",
    "        change_dict = {\"0\" : \"zero\", \n",
    "                       \"1\" : \"one\", \n",
    "                       \"2\" : \"two\", \n",
    "                       \"3\" : \"three\",\n",
    "                       \"4\" : \"four\",\n",
    "                       \"5\" : \"five\",\n",
    "                       \"6\" : \"six\",\n",
    "                       \"7\" : \"seven\",\n",
    "                       \"8\" : \"eight\",\n",
    "                       \"9\" : \"nine\"}\n",
    "        \n",
    "        # 반복문을 통해 수행\n",
    "        for key, value in change_dict.items():\n",
    "            answer = answer.replace(value, key)\n",
    "        \n",
    "        # 마지막으로 반환할 때는 'int' 함수를 사용해 변경해준다.\n",
    "        return answer"
   ]
  },
  {
   "cell_type": "code",
   "execution_count": 3,
   "id": "d42bcf14-2b0d-41da-b79b-0b63aded152e",
   "metadata": {},
   "outputs": [
    {
     "name": "stdout",
     "output_type": "stream",
     "text": [
      "1478\n"
     ]
    }
   ],
   "source": [
    "# 첫 번재 테스트 수행\n",
    "s = \"one4seveneight\"\n",
    "\n",
    "print(solution(s))"
   ]
  },
  {
   "cell_type": "code",
   "execution_count": 4,
   "id": "59ffbcf0-eaa3-4312-87eb-0ae69e4e5481",
   "metadata": {},
   "outputs": [
    {
     "name": "stdout",
     "output_type": "stream",
     "text": [
      "234567\n"
     ]
    }
   ],
   "source": [
    "# 두 번재 테스트 수행\n",
    "s = \"23four5six7\"\n",
    "\n",
    "print(solution(s))"
   ]
  },
  {
   "cell_type": "code",
   "execution_count": 5,
   "id": "52d24c25-be44-422c-99d5-354ba33cc07b",
   "metadata": {},
   "outputs": [
    {
     "name": "stdout",
     "output_type": "stream",
     "text": [
      "234567\n"
     ]
    }
   ],
   "source": [
    "# 세 번째 테스트 수행\n",
    "s = \"2three45sixseven\"\n",
    "\n",
    "print(solution(s))"
   ]
  },
  {
   "cell_type": "code",
   "execution_count": 6,
   "id": "27ab0662-84c5-450a-80e1-ccfe43aff59d",
   "metadata": {},
   "outputs": [
    {
     "name": "stdout",
     "output_type": "stream",
     "text": [
      "123\n"
     ]
    }
   ],
   "source": [
    "# 네 번째 테스트 수행\n",
    "s = \"123\"\n",
    "\n",
    "print(solution(s))"
   ]
  },
  {
   "cell_type": "markdown",
   "id": "d77c3ed9-4ac0-4b38-ab30-a228338824dd",
   "metadata": {},
   "source": [
    "---"
   ]
  },
  {
   "cell_type": "markdown",
   "id": "d49e2279-015f-4115-816e-cac90f1f5640",
   "metadata": {},
   "source": [
    "## Another Solution 1\n",
    "\n",
    "- Try-Except 구문을 사용하지 않고 except 구문에만 사용된 코드를 사용해도 해당 문제를 풀 수 있다."
   ]
  },
  {
   "cell_type": "code",
   "execution_count": 9,
   "id": "5f4e752d-7988-434e-9ea4-a7c71a61e025",
   "metadata": {},
   "outputs": [],
   "source": [
    "# 변경할 값들을 dictionary 타입으로 저장\n",
    "change_dict = {\"zero\" : \"0\", \n",
    "               \"one\" : \"1\", \n",
    "               \"two\" : \"2\", \n",
    "               \"three\" : \"3\", \n",
    "               \"four\" : \"4\", \n",
    "               \"five\" : \"5\", \n",
    "               \"six\" : \"6\", \n",
    "               \"seven\" : \"7\",\n",
    "               \"eight\" : \"8\",\n",
    "               \"nine\" : \"9\"}\n",
    "\n",
    "# 문제 함수 생성\n",
    "def solution(s):\n",
    "    answer = s\n",
    "    \n",
    "    # 반복문을 통해 변경\n",
    "    for key, value in change_dict.items():\n",
    "        answer = answer.replace(key, value)\n",
    "    \n",
    "    return int(answer)"
   ]
  },
  {
   "cell_type": "code",
   "execution_count": 10,
   "id": "862f873a-e339-412d-8694-262ec05adf3c",
   "metadata": {},
   "outputs": [
    {
     "name": "stdout",
     "output_type": "stream",
     "text": [
      "1478\n"
     ]
    }
   ],
   "source": [
    "# 첫 번재 테스트 수행\n",
    "s = \"one4seveneight\"\n",
    "\n",
    "print(solution(s))"
   ]
  },
  {
   "cell_type": "code",
   "execution_count": 11,
   "id": "ab7b3266-d89a-4aa9-848e-a2ac647fc1f5",
   "metadata": {},
   "outputs": [
    {
     "name": "stdout",
     "output_type": "stream",
     "text": [
      "234567\n"
     ]
    }
   ],
   "source": [
    "# 두 번재 테스트 수행\n",
    "s = \"23four5six7\"\n",
    "\n",
    "print(solution(s))"
   ]
  },
  {
   "cell_type": "code",
   "execution_count": 12,
   "id": "c499baf8-ebc7-4527-85e9-b51da42dd34d",
   "metadata": {},
   "outputs": [
    {
     "name": "stdout",
     "output_type": "stream",
     "text": [
      "234567\n"
     ]
    }
   ],
   "source": [
    "# 세 번째 테스트 수행\n",
    "s = \"2three45sixseven\"\n",
    "\n",
    "print(solution(s))"
   ]
  },
  {
   "cell_type": "code",
   "execution_count": 13,
   "id": "2f599357-83de-4003-8fd3-66d32716fd61",
   "metadata": {},
   "outputs": [
    {
     "name": "stdout",
     "output_type": "stream",
     "text": [
      "123\n"
     ]
    }
   ],
   "source": [
    "# 네 번째 테스트 수행\n",
    "s = \"123\"\n",
    "\n",
    "print(solution(s))"
   ]
  }
 ],
 "metadata": {
  "kernelspec": {
   "display_name": "Python 3 (ipykernel)",
   "language": "python",
   "name": "python3"
  },
  "language_info": {
   "codemirror_mode": {
    "name": "ipython",
    "version": 3
   },
   "file_extension": ".py",
   "mimetype": "text/x-python",
   "name": "python",
   "nbconvert_exporter": "python",
   "pygments_lexer": "ipython3",
   "version": "3.9.9"
  }
 },
 "nbformat": 4,
 "nbformat_minor": 5
}
