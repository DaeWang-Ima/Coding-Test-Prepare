{
 "cells": [
  {
   "cell_type": "markdown",
   "id": "c522bac7-3c34-4bf5-8f50-09b83f8f4f38",
   "metadata": {},
   "source": [
    "# 문제설명\n",
    "\n",
    "신입사원 무지는 게시판 불량 이용자를 신고하고 처리 결과를 메일로 발송하는 시스템을 개발하려 합니다. 무지가 개발하려는 시스템은 다음과 같습니다.\n",
    "\n",
    "- 각 유저는 한 번에 한 명의 유저를 신고할 수 있습니다.\n",
    "\n",
    "- 신고 횟수에 제한은 없습니다. 서로 다른 유저를 계속해서 신고할 수 있습니다.\n",
    "\n",
    "- 한 유저를 여러 번 신고할 수도 있지만, 동일한 유저에 대한 신고 횟수는 1회로 처리됩니다.\n",
    "\n",
    "- k번 이상 신고된 유저는 게시판 이용이 정지되며, 해당 유저를 신고한 모든 유저에게 정지 사실을 메일로 발송합니다.\n",
    "\n",
    "- 유저가 신고한 모든 내용을 취합하여 마지막에 한꺼번에 게시판 이용 정지를 시키면서 정지 메일을 발송합니다.\n",
    "\n",
    "다음은 전체 유저 목록이 [\"muzi\", \"frodo\", \"apeach\", \"neo\"]이고, k = 2(즉, 2번 이상 신고당하면 이용 정지)인 경우의 예시입니다.\n",
    "\n",
    "|유저 ID|유저가 신고한 ID|설명|\n",
    "|----------|----------|----------|\n",
    "|\"muzi\"|\"frodo\"|\"muzi\"가 \"frodo\"를 신고했습니다.|\n",
    "|\"apeach\"|\"frodo\"|\"apeach\"가 \"frodo\"를 신고했습니다.|\n",
    "|\"frodo\"|\"neo\"|\"frodo\"가 \"neo\"를 신고했습니다.|\n",
    "|\"muzi\"|\"neo\"|\"muzi\"가 \"neo\"를 신고했습니다.|\n",
    "|\"apeach\"|\"muzi\"|\"apeach\"가 \"muzi\"를 신고했습니다.|\n",
    "\n",
    "각 유저별로 신고당한 횟수는 다음과 같습니다.\n",
    "\n",
    "|유저ID|신고당한 횟수|\n",
    "|----------|----------|\n",
    "|\"muzi\"|1|\n",
    "|\"frodo\"|2|\n",
    "|\"apeach\"|0|\n",
    "|\"neo\"|2|\n",
    "\n",
    "위 예시에서는 2번 이상 신고당한 \"frodo\"와 \"neo\"의 게시판 이용이 정지됩니다. 이때, 각 유저별로 신고한 아이디와 정지된 아이디를 정리하면 다음과 같습니다.\n",
    "\n",
    "|유저ID|유저가 신고한 ID|정지된 ID|\n",
    "|----------|----------|----------|\n",
    "|\"muzi\"|[\"frodo\", \"neo\"]|[\"frodo\", \"neo\"]|\n",
    "|\"frodo\"|[\"neo\"]|[\"neo\"]|\n",
    "|\"apeach\"|[\"muzi\", \"frodo\"]|[\"frodo\"]|\n",
    "|\"neo\"|없음|없음|\n",
    "\n",
    "따라서 \"muzi\"는 처리 결과 메일을 2회, \"frodo\"와 \"apeach\"는 각각 처리 결과 메일을 1회 받게 됩니다.\n",
    "\n",
    "이용자의 ID가 담긴 문자열 배열 `id_list`, 각 이용자가 신고한 이용자의 ID 정보가 담긴 문자열 배열 `report`, 정지 기준이 되는 신고 횟수 `k`가 매개변수로 주어질 때, 각 유저별로 처리 결과 메일을 받은 횟수를 배열에 담아 return 하도록 solution 함수를 완성해주세요."
   ]
  },
  {
   "cell_type": "code",
   "execution_count": 32,
   "id": "ca5625e8-8ca3-4b50-adfe-7193036001e7",
   "metadata": {},
   "outputs": [],
   "source": [
    "id_list = [\"muzi\", \"frodo\", \"apeach\", \"neo\"]\n",
    "report = [\"muzi frodo\", \"apeach frodo\", \"frodo neo\", \"muzi neo\", \"apeach muzi\"]\n",
    "k = 2"
   ]
  },
  {
   "cell_type": "code",
   "execution_count": 33,
   "id": "04e326f4-ca3f-48a6-89f4-838c191c4311",
   "metadata": {},
   "outputs": [],
   "source": [
    "def solution(id_list, report, k):\n",
    "    \n",
    "    # 각 유저가 이메일 받은 수를 저장하기 위한 리스트 생성\n",
    "    answer = []\n",
    "    \n",
    "    # 한 유저가 중복으로 한 신고를 제외한 모든 신고 내역을 나타내기 위한 리스트 생성\n",
    "    check_list = []\n",
    "    \n",
    "    # 각 유저가 신고한 불량 이용자 내역\n",
    "    report_dict = {}\n",
    "    \n",
    "    ## 'report_dict'에 각 유저별로 신고 내역을 담을 리스트를 생성해준다.\n",
    "    ## 각 유저별로 중복이 있을 수 있으므로, set 함수를 사용해주도록 한다.\n",
    "    for user_id in set(id_list):\n",
    "        report_dict[user_id] = []\n",
    "        \n",
    "    ## 각 이용자가 신고한 내용을 반복하여 수행\n",
    "    for value in report:\n",
    "        \n",
    "        # 각 이용자가 신고한 'report'는 공백으로 구분되어 있다.\n",
    "        report_id, report_name = value.split()\n",
    "        \n",
    "        # 한 유저를 여러 번 신고할 수도 있지만, 동일한 유저에 대한 신고 횟수는 1회로 처리된다는 것을 주의해야한다.\n",
    "        # 따라서 신고 내용을 반복하면서 \n",
    "        if report_name not in report_dict[report_id]:\n",
    "            report_dict[report_id].append(report_name)\n",
    "            \n",
    "            check_list.append(report_name)\n",
    "    \n",
    "    cnt_dict = Counter(check_list)\n",
    "    \n",
    "    for report_id in set(id_list):\n",
    "        answer.append(len([check for check in report_dict[report_id] if cnt_dict[check] >= 2]))\n",
    "    \n",
    "    return answer"
   ]
  },
  {
   "cell_type": "code",
   "execution_count": 35,
   "id": "e4f2b428-939e-4cc5-af4e-a3797c3e2f59",
   "metadata": {},
   "outputs": [],
   "source": [
    "def solution(id_list, report, k):\n",
    "    \n",
    "    # 각 유저가 이메일 받은 수를 저장하기 위한 리스트 생성\n",
    "    answer = []\n",
    "    \n",
    "    # 한 유저가 중복으로 한 신고를 제외한 모든 신고 내역을 나타내기 위한 리스트 생성\n",
    "    check_list = []\n",
    "    \n",
    "    # 각 유저가 신고한 불량 이용자 내역\n",
    "    report_dict = {}\n",
    "    \n",
    "    ## 'report_dict'에 각 유저별로 신고 내역을 담을 리스트를 생성해준다.\n",
    "    ## 각 유저별로 중복이 있을 수 있으므로, set 함수를 사용해주도록 한다.\n",
    "    for user_id in set(id_list):\n",
    "        report_dict[user_id] = []\n",
    "        \n",
    "    ## 각 이용자가 신고한 내용을 반복하여 수행\n",
    "    for value in set(report):\n",
    "        \n",
    "        # 각 이용자가 신고한 'report'는 공백으로 구분되어 있다.\n",
    "        report_id, report_name = value.split()\n",
    "        \n",
    "        report_dict[report_id].append(report_name)\n",
    "        check_list.append(report_name)\n",
    "    \n",
    "    cnt_dict = Counter(check_list)\n",
    "    \n",
    "    for report_id in set(id_list):\n",
    "        answer.append(len([check for check in report_dict[report_id] if cnt_dict[check] >= 2]))\n",
    "    \n",
    "    return answer"
   ]
  },
  {
   "cell_type": "code",
   "execution_count": 38,
   "id": "eaf6b216-46c6-492a-8320-12e2fab04112",
   "metadata": {},
   "outputs": [
    {
     "data": {
      "text/plain": [
       "['muzi', 'frodo', 'apeach', 'neo']"
      ]
     },
     "execution_count": 38,
     "metadata": {},
     "output_type": "execute_result"
    }
   ],
   "source": [
    "id_list"
   ]
  },
  {
   "cell_type": "code",
   "execution_count": 16,
   "id": "c315fa42-9c6f-4414-bf3b-e990895cc0f5",
   "metadata": {},
   "outputs": [],
   "source": [
    "report_dict = {}\n",
    "\n",
    "for user_id in set(id_list):\n",
    "    report_dict[user_id] = []"
   ]
  },
  {
   "cell_type": "code",
   "execution_count": 18,
   "id": "b3691aee-2caf-4388-be21-e359807ba432",
   "metadata": {},
   "outputs": [
    {
     "data": {
      "text/plain": [
       "[]"
      ]
     },
     "execution_count": 18,
     "metadata": {},
     "output_type": "execute_result"
    }
   ],
   "source": [
    "report_dict['frodo']"
   ]
  },
  {
   "cell_type": "code",
   "execution_count": 21,
   "id": "766ef331-ae88-4f88-839e-2dc3eebbbda6",
   "metadata": {},
   "outputs": [],
   "source": [
    "from collections import Counter"
   ]
  },
  {
   "cell_type": "code",
   "execution_count": 23,
   "id": "555b5581-fa93-4e05-a439-7fbdeab49d48",
   "metadata": {},
   "outputs": [
    {
     "data": {
      "text/plain": [
       "Counter({1: 2, 2: 1, 3: 1, 4: 1})"
      ]
     },
     "execution_count": 23,
     "metadata": {},
     "output_type": "execute_result"
    }
   ],
   "source": [
    "Counter([1, 2, 3, 4, 1])"
   ]
  },
  {
   "cell_type": "code",
   "execution_count": null,
   "id": "cda99a15-2850-4e6d-8700-767d99c10a4b",
   "metadata": {},
   "outputs": [],
   "source": []
  }
 ],
 "metadata": {
  "kernelspec": {
   "display_name": "Python 3",
   "language": "python",
   "name": "python3"
  },
  "language_info": {
   "codemirror_mode": {
    "name": "ipython",
    "version": 3
   },
   "file_extension": ".py",
   "mimetype": "text/x-python",
   "name": "python",
   "nbconvert_exporter": "python",
   "pygments_lexer": "ipython3",
   "version": "3.8.12"
  }
 },
 "nbformat": 4,
 "nbformat_minor": 5
}
