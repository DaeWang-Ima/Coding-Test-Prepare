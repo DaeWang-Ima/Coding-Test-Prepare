{
 "cells": [
  {
   "cell_type": "markdown",
   "id": "5f839be6-1694-44a2-8cec-3020c43520c4",
   "metadata": {},
   "source": [
    "# <a href=\"https://programmers.co.kr/learn/courses/30/lessons/86051\">문제 설명</a>\n",
    "\n",
    "0부터 9까지의 숫자 중 일부가 들어있는 정수 배열 `numbers`가 매개변수로 주어집니다.\n",
    "\n",
    "`numbers`에서 찾을 수 없는 0부터 9까지의 숫자를 모두 찾아 더한 수를 return 하도록 solution 함수를 완성해주세요.\n",
    "\n",
    "**제한사항**\n",
    "\n",
    "- 1 ≦ `numbers`의 길이 ≦ 9\n",
    "\n",
    "    - 0 ≦ `numbers`의 모든 원소 ≦ 9<br><br>\n",
    "    \n",
    "    - `numbers`의 모든 원소는 서로 다릅니다.<br><br>\n",
    "    \n",
    "**입출력 예시**\n",
    "\n",
    "|numbers|result|\n",
    "|-----|-----|\n",
    "|[1, 2, 3, 4, 6, 7, 8, 0]|14|\n",
    "|[5, 8, 4, 0, 6, 7, 9]|6|"
   ]
  },
  {
   "cell_type": "markdown",
   "id": "89ad45d0-aa4a-40d1-9c3f-2821955d133d",
   "metadata": {},
   "source": [
    "## My Solution"
   ]
  },
  {
   "cell_type": "code",
   "execution_count": 1,
   "id": "4af8684f-37d9-4c5d-ab90-4b4aaf9c47f9",
   "metadata": {},
   "outputs": [],
   "source": [
    "# 문제 함수 생성\n",
    "def solution(numbers):\n",
    "    \n",
    "    # 초기값 설정\n",
    "    answer = 0\n",
    "    \n",
    "    for check_number in range(10):\n",
    "        \n",
    "        # 리스트에 포함되어 있지 않는 숫자를 계속 더해주면 된다.\n",
    "        if check_number not in numbers:\n",
    "            answer += check_number\n",
    "    \n",
    "    return answer"
   ]
  },
  {
   "cell_type": "code",
   "execution_count": 2,
   "id": "218007f8-3f6e-4383-972e-9d1ba4cf9b4e",
   "metadata": {},
   "outputs": [
    {
     "name": "stdout",
     "output_type": "stream",
     "text": [
      "14\n"
     ]
    }
   ],
   "source": [
    "# 첫 번째 테스트 수행\n",
    "numbers = [1, 2, 3, 4, 6, 7, 8, 0]\n",
    "\n",
    "print(solution(numbers))"
   ]
  },
  {
   "cell_type": "code",
   "execution_count": 5,
   "id": "c01335bd-77af-4ccf-9037-c4096b0afb46",
   "metadata": {},
   "outputs": [
    {
     "name": "stdout",
     "output_type": "stream",
     "text": [
      "6\n"
     ]
    }
   ],
   "source": [
    "# 두 번째 테스트 수행\n",
    "numbers = [5, 8, 4, 0, 6, 7, 9]\n",
    "\n",
    "print(solution(numbers))"
   ]
  },
  {
   "cell_type": "markdown",
   "id": "6e0b7f84-0e90-4795-82f2-ccf6d386d6de",
   "metadata": {},
   "source": [
    "---"
   ]
  },
  {
   "cell_type": "markdown",
   "id": "75d7bab7-1613-4eb7-8cfd-fcd5ca7fb372",
   "metadata": {},
   "source": [
    "## Another Solution 1\n",
    "\n",
    "- 매우 간단하다....\n",
    "\n",
    "- 0부터 9까지 모두 더했을 때 합이 45인 것을 이용한 풀이 방법"
   ]
  },
  {
   "cell_type": "code",
   "execution_count": 6,
   "id": "f3cbac87-5c7d-48d9-8248-28e61e9ba9e2",
   "metadata": {},
   "outputs": [],
   "source": [
    "# 문제 함수 생성\n",
    "def solution(numbers):\n",
    "    return 45 - sum(numbers)"
   ]
  },
  {
   "cell_type": "code",
   "execution_count": 7,
   "id": "812d5866-687b-44bb-a4ff-a852564cf502",
   "metadata": {},
   "outputs": [
    {
     "name": "stdout",
     "output_type": "stream",
     "text": [
      "14\n"
     ]
    }
   ],
   "source": [
    "# 첫 번째 테스트 수행\n",
    "numbers = [1, 2, 3, 4, 6, 7, 8, 0]\n",
    "\n",
    "print(solution(numbers))"
   ]
  },
  {
   "cell_type": "code",
   "execution_count": 8,
   "id": "3583dde7-0da7-4a7e-ad33-e8f1a5812ad3",
   "metadata": {},
   "outputs": [
    {
     "name": "stdout",
     "output_type": "stream",
     "text": [
      "6\n"
     ]
    }
   ],
   "source": [
    "# 두 번째 테스트 수행\n",
    "numbers = [5, 8, 4, 0, 6, 7, 9]\n",
    "\n",
    "print(solution(numbers))"
   ]
  }
 ],
 "metadata": {
  "kernelspec": {
   "display_name": "Python 3 (ipykernel)",
   "language": "python",
   "name": "python3"
  },
  "language_info": {
   "codemirror_mode": {
    "name": "ipython",
    "version": 3
   },
   "file_extension": ".py",
   "mimetype": "text/x-python",
   "name": "python",
   "nbconvert_exporter": "python",
   "pygments_lexer": "ipython3",
   "version": "3.9.9"
  }
 },
 "nbformat": 4,
 "nbformat_minor": 5
}
