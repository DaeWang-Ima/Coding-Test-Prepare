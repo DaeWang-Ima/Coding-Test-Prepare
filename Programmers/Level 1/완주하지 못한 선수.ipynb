{
 "cells": [
  {
   "cell_type": "markdown",
   "id": "ee54410b-ed92-4968-ae42-5df3f07750cb",
   "metadata": {},
   "source": [
    "# 문제 설명\n",
    "\n",
    "수많은 마라톤 선수들이 마라톤에 참여하였습니다. 단 한 명의 선수를 제외하고는 모든 선수가 마라톤을 완주하였습니다.\n",
    "\n",
    "마라톤에 참여한 선수들의 이름이 담긴 배열 participant와 완주한 선수들의 이름이 담긴 배열 completion이 주어질 때, 완주하지 못한 선수의 이름을 return 하도록 solution 함수를 작성해주세요.\n",
    "\n",
    "**제한사항**\n",
    "\n",
    "- 마라톤 경기에 참여한 선수의 수는 1명 이상 100,000명 이하입니다.\n",
    "\n",
    "- completion의 길이는 participant의 길이보다 1 작습니다.\n",
    "\n",
    "- 참가자의 이름은 1개 이상 20개 이하의 알파벳 소문자로 이루어져 있습니다.\n",
    "\n",
    "- 참가자 중에는 동명이인이 있을 수 있습니다.\n",
    "\n",
    "**입출력 예시**\n",
    "\n",
    "|participant|completion|return|\n",
    "|----------|----------|----------|\n",
    "|[\"leo\", \"kiki\", \"eden\"]|[\"eden\", \"kiki\"]|\"leo\"|\n",
    "|[\"marina\", \"josipa\", \"nikola\", \"vinko\", \"filipa\"]|[\"josipa\", \"filipa\", \"marina\", \"nikola\"]|\"vinko\"|\n",
    "|[\"mislav\", \"stanko\", \"mislav\", \"ana\"]|[\"stanko\", \"ana\", \"mislav\"]|\"mislav\"|\n",
    "\n",
    "\n",
    "```python\n",
    "# 초기 코드\n",
    "def solution(participant, completion):\n",
    "    answer = ''\n",
    "    return answer\n",
    "```"
   ]
  },
  {
   "cell_type": "markdown",
   "id": "2e0ece8a-1e70-4886-a1f5-056fe6aa1ad1",
   "metadata": {},
   "source": [
    "## My Solution\n",
    "\n",
    "- 해당 문제에서는 동명이인을 효율적으로 처리하는 것이 가장 큰 문제로 파악된다.\n",
    "\n",
    "- participant 배열에서 completion 배열에 존재하는 원소를 제거해주는 방식을 사용하게 되면, 동명이인 처리가 불가능하다."
   ]
  },
  {
   "cell_type": "code",
   "execution_count": 17,
   "id": "d5b4641b-43e0-4a04-8177-0a0fd80e73aa",
   "metadata": {},
   "outputs": [],
   "source": [
    "# 필요 라이브러리 불러오기\n",
    "from collections import Counter\n",
    "\n",
    "# 문제 함수 생성\n",
    "def solution(participant, completion):\n",
    "    \n",
    "    # 우선, 참가자의 배열을 사용하여 각 참가자의 Counter 객체를 생성한다.\n",
    "    cnt_par = Counter(participant)\n",
    "    \n",
    "    # Counter 객체를 생성하면, 각 참가자의 등장 횟수를 알 수 있다.\n",
    "    # 즉, 동명이인이 2명 있다고 하면 해당 사용자의 등장 횟수는 '2'이다.\n",
    "    # 따라서 완주자 배열을 반복하면서 해당 완주자의 등장 횟수를 1씩 차감하도록 한다.\n",
    "    for comple_people in completion:\n",
    "        \n",
    "        if comple_people in cnt_par.keys():\n",
    "            \n",
    "            cnt_par[comple_people] = cnt_par[comple_people] - 1\n",
    "            \n",
    "    # 이제, 'cnt_par' 변수에서 참가자의 등장 횟수가 1 이상인 참가자를 반환하면 된다.\n",
    "    answer = [name for name in cnt_par.keys() if cnt_par[name] == 1]\n",
    "    \n",
    "    return answer[0]"
   ]
  },
  {
   "cell_type": "markdown",
   "id": "7c62c145-1451-4ccc-ac1e-af9117f157e6",
   "metadata": {},
   "source": [
    "- 처음 문제를 푸는 과정에서 결과를 도출할 때, 아래와 같이 코드를 작성하였다.\n",
    "\n",
    "```python\n",
    "answer = [name for name in cnt_par.keys() if cnt_par[name] >= 1]\n",
    "```\n",
    "\n",
    "- 1 이상의 값을 가지는 사람을 출력한 이유는 그 이상의 값이 나올 수도 있기 때문에 지정해주었다.\n",
    "\n",
    "- 하지만 문제에서 `단 한명의 선수를 제외하고는 모든 선수가 마라톤을 완주하였습니다.`라고 제시되어 있기 때문에 `==`으로 바꿔주는 것이 옳바른 정답으로 판단된다."
   ]
  },
  {
   "cell_type": "code",
   "execution_count": 18,
   "id": "16622f2b-b518-4498-b150-412983edce15",
   "metadata": {},
   "outputs": [
    {
     "name": "stdout",
     "output_type": "stream",
     "text": [
      "leo\n"
     ]
    }
   ],
   "source": [
    "# 첫 번재 테스트 수행\n",
    "participant = [\"leo\", \"kiki\", \"eden\"]\n",
    "completion = [\"eden\", \"kiki\"]\n",
    "\n",
    "print(solution(participant, completion))"
   ]
  },
  {
   "cell_type": "code",
   "execution_count": 19,
   "id": "d73b75ba-27c8-4b07-8578-6241c09b03e3",
   "metadata": {},
   "outputs": [
    {
     "name": "stdout",
     "output_type": "stream",
     "text": [
      "vinko\n"
     ]
    }
   ],
   "source": [
    "# 두 번째 테스트 수행\n",
    "participant = [\"marina\", \"josipa\", \"nikola\", \"vinko\", \"filipa\"]\n",
    "completion = [\"josipa\", \"filipa\", \"marina\", \"nikola\"]\n",
    "\n",
    "print(solution(participant, completion))"
   ]
  },
  {
   "cell_type": "code",
   "execution_count": 20,
   "id": "fecd7315-e2e7-4ac6-b22f-8b1c6499ae97",
   "metadata": {},
   "outputs": [
    {
     "name": "stdout",
     "output_type": "stream",
     "text": [
      "mislav\n"
     ]
    }
   ],
   "source": [
    "# 세 번째 테스트 수행\n",
    "participant = [\"mislav\", \"stanko\", \"mislav\", \"ana\"]\n",
    "completion = [\"stanko\", \"ana\", \"mislav\"]\n",
    "\n",
    "print(solution(participant, completion))"
   ]
  },
  {
   "cell_type": "markdown",
   "id": "e730b78f-7ed1-4ebf-978d-a46c9b9090a7",
   "metadata": {},
   "source": [
    "---"
   ]
  },
  {
   "cell_type": "markdown",
   "id": "90788df1-962e-4c41-8731-c3e934274419",
   "metadata": {},
   "source": [
    "## Another Solution 1\n",
    "\n",
    "- collections 라이브러리의 `Counter` 객체끼리는 서로 계산이 가능하다."
   ]
  },
  {
   "cell_type": "code",
   "execution_count": 5,
   "id": "fb9bf6a2-8f1b-468c-868b-671f8b6165ec",
   "metadata": {},
   "outputs": [],
   "source": [
    "# 필요 라이브러리 불러오기\n",
    "from collections import Counter\n",
    "\n",
    "# 문제 함수 생성\n",
    "def solution(participant, completion):\n",
    "    \n",
    "    # Counter 객체 간의 계산 수행\n",
    "    answer = Counter(participant) - Counter(completion)\n",
    "    \n",
    "    return list(answer.keys())[0]"
   ]
  },
  {
   "cell_type": "code",
   "execution_count": 6,
   "id": "0f551799-b614-4e96-92bd-a6528f9f0027",
   "metadata": {},
   "outputs": [
    {
     "name": "stdout",
     "output_type": "stream",
     "text": [
      "leo\n"
     ]
    }
   ],
   "source": [
    "# 첫 번재 테스트 수행\n",
    "participant = [\"leo\", \"kiki\", \"eden\"]\n",
    "completion = [\"eden\", \"kiki\"]\n",
    "\n",
    "print(solution(participant, completion))"
   ]
  },
  {
   "cell_type": "code",
   "execution_count": 7,
   "id": "aac44bcc-381e-49e3-a51d-6294847d047f",
   "metadata": {},
   "outputs": [
    {
     "name": "stdout",
     "output_type": "stream",
     "text": [
      "vinko\n"
     ]
    }
   ],
   "source": [
    "# 두 번째 테스트 수행\n",
    "participant = [\"marina\", \"josipa\", \"nikola\", \"vinko\", \"filipa\"]\n",
    "completion = [\"josipa\", \"filipa\", \"marina\", \"nikola\"]\n",
    "\n",
    "print(solution(participant, completion))"
   ]
  },
  {
   "cell_type": "code",
   "execution_count": 8,
   "id": "37e59d85-ac61-44d6-9504-e0c302a6a64c",
   "metadata": {},
   "outputs": [
    {
     "name": "stdout",
     "output_type": "stream",
     "text": [
      "mislav\n"
     ]
    }
   ],
   "source": [
    "# 세 번째 테스트 수행\n",
    "participant = [\"mislav\", \"stanko\", \"mislav\", \"ana\"]\n",
    "completion = [\"stanko\", \"ana\", \"mislav\"]\n",
    "\n",
    "print(solution(participant, completion))"
   ]
  },
  {
   "cell_type": "markdown",
   "id": "61146797-0e64-434e-8cea-9bd0a532cd3c",
   "metadata": {},
   "source": [
    "- Counter 객체끼리 연산이 가능하다는 사실을 처음 알게되었다.\n",
    "\n",
    "- Counter 객체끼리 연산을 적용했을 때, 어떠한 방식으로 작동하는지 확인해보도록 하자."
   ]
  },
  {
   "cell_type": "code",
   "execution_count": 14,
   "id": "cff67812-72df-4216-b1ef-e78dd91ddbd2",
   "metadata": {},
   "outputs": [
    {
     "name": "stdout",
     "output_type": "stream",
     "text": [
      "Counter({'mislav': 2, 'stanko': 1, 'ana': 1}) \n",
      "\n",
      "Counter({'stanko': 1, 'ana': 1, 'mislav': 1})\n"
     ]
    }
   ],
   "source": [
    "# 두 개의 Counter 객체 생성\n",
    "cnt_value1 = Counter(participant)\n",
    "cnt_value2 = Counter(completion)\n",
    "\n",
    "print(cnt_value1, \"\\n\")\n",
    "print(cnt_value2)"
   ]
  },
  {
   "cell_type": "code",
   "execution_count": 16,
   "id": "bf67fa7e-47cd-462c-a961-3ad461295590",
   "metadata": {},
   "outputs": [
    {
     "name": "stdout",
     "output_type": "stream",
     "text": [
      "Counter({'mislav': 1})\n"
     ]
    }
   ],
   "source": [
    "# 위에서 생성한 두 개의 Counter 객체 '빼기' 연산 실행\n",
    "print(cnt_value1 - cnt_value2)"
   ]
  },
  {
   "cell_type": "markdown",
   "id": "83222176-c2ab-420d-bd6f-6d3b00ae9a3a",
   "metadata": {},
   "source": [
    "- Counter 객체끼리 빼기 연산을 실행했을 때, Key와 Value 값이 모두 같으면 해당 관측치들은 삭제가 됨을 확인할 수 있다."
   ]
  }
 ],
 "metadata": {
  "kernelspec": {
   "display_name": "Python 3",
   "language": "python",
   "name": "python3"
  },
  "language_info": {
   "codemirror_mode": {
    "name": "ipython",
    "version": 3
   },
   "file_extension": ".py",
   "mimetype": "text/x-python",
   "name": "python",
   "nbconvert_exporter": "python",
   "pygments_lexer": "ipython3",
   "version": "3.8.12"
  }
 },
 "nbformat": 4,
 "nbformat_minor": 5
}
