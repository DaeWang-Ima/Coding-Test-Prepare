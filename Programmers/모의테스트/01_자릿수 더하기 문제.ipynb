{
 "cells": [
  {
   "cell_type": "markdown",
   "id": "2816b9cd-9d2c-40bb-b0f5-b21c7b853653",
   "metadata": {},
   "source": [
    "# 문제설명\n",
    "\n",
    "자연수 N이 주어지면, N의 각 자릿수의 합을 구해서 return 하는 solution 함수를 만들어 주세요.\n",
    "\n",
    "예를 들어 N = 123 이면 1 + 2 + 3 = 6 을 return 하면 됩니다."
   ]
  },
  {
   "cell_type": "markdown",
   "id": "05bae455-8162-4e6b-a9fd-710cbf61c190",
   "metadata": {},
   "source": [
    "---"
   ]
  },
  {
   "cell_type": "markdown",
   "id": "28d72541-c850-42da-a36a-85112eee4567",
   "metadata": {},
   "source": [
    "## 입출력 예시\n",
    "\n",
    "|N|Answer|\n",
    "|------|------|\n",
    "|123|6|\n",
    "|987|24|"
   ]
  },
  {
   "cell_type": "markdown",
   "id": "80c3389c-53f1-46c0-9f4a-9d5e4306f4c6",
   "metadata": {},
   "source": [
    "---"
   ]
  },
  {
   "cell_type": "code",
   "execution_count": 1,
   "id": "0416a087-43bc-4346-8646-ea64aedffbcf",
   "metadata": {},
   "outputs": [],
   "source": [
    "# 나의 풀이\n",
    "def solution(n):\n",
    "    \n",
    "    # 들어오는 입력값이 Numerical 타입인 경우에는 인덱싱이 불가능하므로, 문자열로 바꿔준다.\n",
    "    string_number = str(n)\n",
    "    \n",
    "    # 초기값 지정\n",
    "    answer = 0\n",
    "    \n",
    "    # 문자열의 경우에는 인덱싱이 가능하므로 문자의 길이만큼 인덱싱을 지정해서 풀어주면 된다.\n",
    "    for index in range(len(string_number)):\n",
    "        \n",
    "        # 문자열로 변환한 변수는 문자열이기 때문에 더해주기 위해서는 정수형으로 다시 바꿔줘야 한다.\n",
    "        answer += int(string_number[index])\n",
    "        \n",
    "    return answer"
   ]
  },
  {
   "cell_type": "code",
   "execution_count": 2,
   "id": "26f777a4-f8c4-42a6-ac8b-d370113f42f8",
   "metadata": {},
   "outputs": [
    {
     "name": "stdout",
     "output_type": "stream",
     "text": [
      "6 24\n"
     ]
    }
   ],
   "source": [
    "print(solution(123), solution(987))"
   ]
  },
  {
   "cell_type": "markdown",
   "id": "dde24e54-318f-437b-b08b-86ded2d2cd95",
   "metadata": {},
   "source": [
    "---"
   ]
  },
  {
   "cell_type": "markdown",
   "id": "800ecf78-34e1-400b-a04e-f559cf7c50ed",
   "metadata": {},
   "source": [
    "### 1. Another Solution\n",
    "\n",
    "- 리스트 컴프리핸션과 sum 함수를 사용하여 풀이"
   ]
  },
  {
   "cell_type": "code",
   "execution_count": 12,
   "id": "350f2d30-84f9-4806-8c63-af9bd056d322",
   "metadata": {},
   "outputs": [],
   "source": [
    "def solution(n):\n",
    "    \n",
    "    return sum([int(value) for value in str(n)])"
   ]
  },
  {
   "cell_type": "markdown",
   "id": "433c95d1-3d3a-4aa7-ad73-30f850b2277e",
   "metadata": {},
   "source": [
    "- Python에서 문자열을 반복하면 앞에서부터 한 문자씩 반복을 수행한다.\n",
    "\n",
    "- 초기 입력값을 문자열 유형으로 바꿔 각 자릿수를 리스트에 저장한다. 마지막 결과는 자릿수를 모두 더해줘야 하므로 저장할 때, 다시 정수형으로 바꿔준다. "
   ]
  },
  {
   "cell_type": "code",
   "execution_count": 13,
   "id": "0f425a5e-7ecd-4abf-a680-4c51d2ca81ca",
   "metadata": {},
   "outputs": [
    {
     "name": "stdout",
     "output_type": "stream",
     "text": [
      "6 24\n"
     ]
    }
   ],
   "source": [
    "print(solution(123), solution(987))"
   ]
  },
  {
   "cell_type": "markdown",
   "id": "f0419ee5-2c6f-4724-bca3-787f5931d366",
   "metadata": {},
   "source": [
    "---"
   ]
  },
  {
   "cell_type": "markdown",
   "id": "2543b661-c963-4ef8-8494-1c5eff148fc2",
   "metadata": {},
   "source": [
    "### 2. Another Solution\n",
    "\n",
    "- Python 내장함수 map을 사용하여 풀이"
   ]
  },
  {
   "cell_type": "code",
   "execution_count": 15,
   "id": "db12b2fa-5d4e-44e8-b58e-037cd8470c1c",
   "metadata": {},
   "outputs": [],
   "source": [
    "def solution(n):\n",
    "    \n",
    "    return sum(map(int, str(n)))"
   ]
  },
  {
   "cell_type": "code",
   "execution_count": 16,
   "id": "4d51ccd6-94c0-4320-8060-a117289a34fc",
   "metadata": {},
   "outputs": [
    {
     "name": "stdout",
     "output_type": "stream",
     "text": [
      "6 24\n"
     ]
    }
   ],
   "source": [
    "print(solution(123), solution(987))"
   ]
  }
 ],
 "metadata": {
  "kernelspec": {
   "display_name": "Python 3 (ipykernel)",
   "language": "python",
   "name": "python3"
  },
  "language_info": {
   "codemirror_mode": {
    "name": "ipython",
    "version": 3
   },
   "file_extension": ".py",
   "mimetype": "text/x-python",
   "name": "python",
   "nbconvert_exporter": "python",
   "pygments_lexer": "ipython3",
   "version": "3.9.9"
  }
 },
 "nbformat": 4,
 "nbformat_minor": 5
}
