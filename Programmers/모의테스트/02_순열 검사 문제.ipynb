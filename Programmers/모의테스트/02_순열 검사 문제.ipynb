{
 "cells": [
  {
   "cell_type": "markdown",
   "id": "ba019b1b-1c7c-4251-9962-a1649280e05d",
   "metadata": {},
   "source": [
    "# 문제 설명\n",
    "\n",
    "길이가 n인 배열에 1부터 n까지 숫자가 중복 없이 한 번씩 들어 있는지를 확인하려고 합니다.\n",
    "\n",
    "1부터 n까지 숫자가 중복 없이 한 번씩 들어 있는 경우 true를, 아닌 경우 false를 반환하도록 함수 solution을 완성해주세요."
   ]
  },
  {
   "cell_type": "markdown",
   "id": "be1be4eb-0fa9-4328-ac87-7c514798c7e8",
   "metadata": {},
   "source": [
    "----"
   ]
  },
  {
   "cell_type": "markdown",
   "id": "a7bb8492-74b9-4d1c-b942-d003f4152f45",
   "metadata": {},
   "source": [
    "## 입출력 예시\n",
    "\n",
    "|arr|result|\n",
    "|------|------|\n",
    "|[4, 1, 3, 2]|true|\n",
    "|[4, 1, 3]|false|"
   ]
  },
  {
   "cell_type": "markdown",
   "id": "719fbace-67ce-4575-9283-1af426d45bea",
   "metadata": {},
   "source": [
    "---"
   ]
  },
  {
   "cell_type": "markdown",
   "id": "def2a427-8d1e-4532-a0a7-9d8acfc5f0a1",
   "metadata": {},
   "source": [
    "## My Solution"
   ]
  },
  {
   "cell_type": "code",
   "execution_count": 3,
   "id": "50b0344d-3978-41f3-a462-c78d29993642",
   "metadata": {},
   "outputs": [],
   "source": [
    "# 나의 풀이\n",
    "def solution(arr):\n",
    "    \n",
    "    # 우선 입력값으로 들어온 배열을 정렬한다.\n",
    "    sorted_input = sorted(arr)\n",
    "    \n",
    "    # 입력값으로 들어온 배열의 길이만큼의 비교할 배열을 생성해주면 된다.\n",
    "    check_arr = [number + 1 for number in range(len(arr))]\n",
    "    \n",
    "    # 두 개의 배열을 체크해주면 끝\n",
    "    if sorted_input == check_arr:\n",
    "        answer = True\n",
    "    \n",
    "    else:\n",
    "        answer = False\n",
    "    \n",
    "    return answer"
   ]
  },
  {
   "cell_type": "code",
   "execution_count": 5,
   "id": "dd7d2b6f-f95e-4699-be77-c9751f79aa00",
   "metadata": {},
   "outputs": [
    {
     "name": "stdout",
     "output_type": "stream",
     "text": [
      "True False\n"
     ]
    }
   ],
   "source": [
    "print(solution([4, 1, 3, 2]), solution([4, 1, 3]))"
   ]
  },
  {
   "cell_type": "markdown",
   "id": "a0ab8b8a-5fe9-47bb-a483-03e75bc5abad",
   "metadata": {},
   "source": [
    "---"
   ]
  },
  {
   "cell_type": "markdown",
   "id": "d1f8988c-4f6a-4c99-b2fc-7d8ac5576c52",
   "metadata": {},
   "source": [
    "## Another Solution 1\n",
    "\n",
    "- 길이가 n인 배열이라고 주어져 있기 때문에 입력된 배열의 길이는 n이다.\n",
    "\n",
    "- 또한, 중복 없이 한 번씩만 들어오기 때문에 중복을 제거한 배열의 길이도 n이다.\n",
    "\n",
    "- 배열에 숫자 1부터 들어가기 때문에 입력된 배열의 최대값은 배열의 길이와 같다.\n",
    "\n",
    "- 마지막으로 배열이 숫자 1부터 들어가기 때문에 항상 배열의 최소값은 1이다.\n",
    "\n",
    "- 따라서 위의 조건을 모두 만족하면 된다."
   ]
  },
  {
   "cell_type": "code",
   "execution_count": 12,
   "id": "000a508f-88a2-451f-a04b-e6197f005f88",
   "metadata": {},
   "outputs": [],
   "source": [
    "def solution(arr):\n",
    "    \n",
    "    return (len(arr) == len(set(arr)) == max(arr)) & (min(arr) == 1)"
   ]
  },
  {
   "cell_type": "code",
   "execution_count": null,
   "id": "9dae40ab-f9f3-4e96-8596-adb2351f3147",
   "metadata": {},
   "outputs": [
    {
     "name": "stdout",
     "output_type": "stream",
     "text": [
      "True False\n"
     ]
    }
   ],
   "source": [
    "print(solution([4, 1, 3, 2]), solution([4, 1, 3]))"
   ]
  }
 ],
 "metadata": {
  "kernelspec": {
   "display_name": "Python 3 (ipykernel)",
   "language": "python",
   "name": "python3"
  },
  "language_info": {
   "codemirror_mode": {
    "name": "ipython",
    "version": 3
   },
   "file_extension": ".py",
   "mimetype": "text/x-python",
   "name": "python",
   "nbconvert_exporter": "python",
   "pygments_lexer": "ipython3",
   "version": "3.9.9"
  }
 },
 "nbformat": 4,
 "nbformat_minor": 5
}
