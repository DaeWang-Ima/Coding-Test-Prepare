{
 "cells": [
  {
   "cell_type": "markdown",
   "id": "2a9fc641-df07-4e6f-a922-2f9095840e5f",
   "metadata": {},
   "source": [
    "# 문제 설명\n",
    "\n",
    "직사각형을 만드는 데 필요한 4개의 점 중 3개의 좌표가 주어질 때, 나머지 한 점의 좌표를 구하려고 합니다.\n",
    "\n",
    "점 3개의 좌표가 들어있는 배열 v가 매개변수로 주어질 때, 직사각형을 만드는 데 필요한 나머지 한 점의 좌표를 return 하도록 solution 함수를 완성해주세요.\n",
    "\n",
    "단, 직사각형의 각 변은 x축, y축에 평행하며, 반드시 직사각형을 만들 수 있는 경우만 입력으로 주어집니다.\n",
    "\n",
    "**제한사항**\n",
    "\n",
    "- v는 세 점의 좌표가 들어있는 2차원 배열입니다.\n",
    "\n",
    "- v의 각 원소는 점의 좌표를 나타내며, 좌표는 [x축 좌표, y축 좌표] 순으로 주어집니다.\n",
    "\n",
    "- 좌표값은 1 이상 10억 이하의 자연수입니다.\n",
    "\n",
    "- 직사각형을 만드는 데 필요한 나머지 한 점의 좌표를 [x축 좌표, y축 좌표] 순으로 담아 return 해주세요.\n",
    "\n",
    "**입출력 예**\n",
    "\n",
    "|v|result|\n",
    "|-----|-----|\n",
    "|[[1, 4], [3, 4], [3, 10]]|[1, 10]|\n",
    "|[[1, 1], [2, 2], [1, 2]]|[2, 1]|\n",
    "\n",
    "```python\n",
    "# 초기코드\n",
    "def solution(v):\n",
    "    answer = []\n",
    "    \n",
    "    print(\"Hello Python\")\n",
    "    \n",
    "    return answer\n",
    "```"
   ]
  },
  {
   "cell_type": "markdown",
   "id": "062c1e8d-9e2e-40c4-966a-a7c458738b65",
   "metadata": {},
   "source": [
    "## My Solution\n",
    "\n",
    "- 우선, 직사각형의 각 변은 x축, y축에 평행하다는 사실이다.\n",
    "\n",
    "- 직사각형을 만들기 위해서는 x축, y축 좌표들에 두 개의 숫자가 두 번씩 들어있어야 한다."
   ]
  },
  {
   "cell_type": "code",
   "execution_count": 46,
   "id": "d70b7eb9-db40-4ce3-84ae-b2150626b673",
   "metadata": {},
   "outputs": [],
   "source": [
    "# 필요 라이브러리 불러오기\n",
    "from collections import Counter\n",
    "\n",
    "# 문제 함수 생성\n",
    "def solution(v):\n",
    "    \n",
    "    # X 좌표와 Y 좌표를 각각 다른 변수에 저장해준다. \n",
    "    X = [list_value[0] for list_value in v]\n",
    "    Y = [list_value[1] for list_value in v]\n",
    "    \n",
    "    # X 좌표와 Y 좌표의 'Counter' 객체 생성\n",
    "    cnt_X = Counter(X)\n",
    "    cnt_Y = Counter(Y)\n",
    "    \n",
    "    # 각 'Counter' 객체에서 1번 등장한 Key 값을 추출해주면 된다.\n",
    "    return_X = [int(key) for key in cnt_X.keys() if cnt_X[key] == 1][0]\n",
    "    return_Y = [int(key) for key in cnt_Y.keys() if cnt_Y[key] == 1][0]\n",
    "    \n",
    "    # 추출한 값들을 문제의 요구사항에 맞게 변수로 저장해주면 된다.\n",
    "    answer = [return_X, return_Y]\n",
    "    \n",
    "    return answer"
   ]
  },
  {
   "cell_type": "code",
   "execution_count": 44,
   "id": "1d195c03-df8c-482e-9f05-d8496db4163d",
   "metadata": {},
   "outputs": [
    {
     "name": "stdout",
     "output_type": "stream",
     "text": [
      "[1, 10]\n"
     ]
    }
   ],
   "source": [
    "# 첫 번재 테스트 수행\n",
    "v = [[1, 4], [3, 4], [3, 10]]\n",
    "\n",
    "print(solution(v))"
   ]
  },
  {
   "cell_type": "code",
   "execution_count": 45,
   "id": "94b1094f-d207-434c-9854-72ee015df4df",
   "metadata": {},
   "outputs": [
    {
     "name": "stdout",
     "output_type": "stream",
     "text": [
      "[2, 1]\n"
     ]
    }
   ],
   "source": [
    "# 두 번재 테스트 수행\n",
    "v = [[1, 1], [2, 2], [1, 2]]\n",
    "\n",
    "print(solution(v))"
   ]
  },
  {
   "cell_type": "markdown",
   "id": "83b0f639-5a2b-4d1c-af48-06c72163caa3",
   "metadata": {},
   "source": [
    "- 처음 문제를 풀 때, `Counter` 함수를 사용하여 객체를 생성하면 Key 값은 자동으로 `문자` 타입이 되는 줄 알고 아래와 같이 코드를 작성하였다.\n",
    "\n",
    "```python\n",
    "return_X = [int(key) for key in cnt_X.keys() if cnt_X[key] == 1][0]\n",
    "```\n",
    "\n",
    "- 하지만 Counter 객체를 생성할 때, Key에 해당되는 값들이 숫자 타입이면 해당 타입이 그대로 보존된다.\n",
    "\n",
    "- 따라서 위의 코드에서 `int` 함수를 제거해줘도 된다.\n",
    "\n",
    "```python\n",
    "# 수정 코드\n",
    "return_X = [key for key in cnt_X.keys() if cnt_X[key] == 1][0]\n",
    "return_Y = [key for key in cnt_Y.keys() if cnt_Y[key] == 1][0]\n",
    "```"
   ]
  },
  {
   "cell_type": "code",
   "execution_count": 56,
   "id": "8ecfd3be-f25b-4bfc-8331-f1da40520113",
   "metadata": {},
   "outputs": [
    {
     "name": "stdout",
     "output_type": "stream",
     "text": [
      "<class 'int'>\n"
     ]
    }
   ],
   "source": [
    "# Counter 객체 생성 후, 확인\n",
    "value = [1, 2, 1, 1, 3]\n",
    "value = Counter(value)\n",
    "\n",
    "print(type(list(value.keys())[0]))"
   ]
  },
  {
   "cell_type": "markdown",
   "id": "93756fec-5179-481c-bb99-bfe044e5605c",
   "metadata": {},
   "source": [
    "## Another Solution 1"
   ]
  },
  {
   "cell_type": "code",
   "execution_count": null,
   "id": "d9dc4b80-be82-43fe-8db7-0d1ef801cc10",
   "metadata": {},
   "outputs": [],
   "source": []
  }
 ],
 "metadata": {
  "kernelspec": {
   "display_name": "Python 3",
   "language": "python",
   "name": "python3"
  },
  "language_info": {
   "codemirror_mode": {
    "name": "ipython",
    "version": 3
   },
   "file_extension": ".py",
   "mimetype": "text/x-python",
   "name": "python",
   "nbconvert_exporter": "python",
   "pygments_lexer": "ipython3",
   "version": "3.8.12"
  }
 },
 "nbformat": 4,
 "nbformat_minor": 5
}
