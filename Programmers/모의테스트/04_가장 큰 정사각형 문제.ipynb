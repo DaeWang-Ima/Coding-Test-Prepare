{
 "cells": [
  {
   "cell_type": "markdown",
   "id": "5def4ac6-880d-47ad-aec4-48e8abb8b91b",
   "metadata": {},
   "source": [
    "# 문제 설명\n",
    "\n",
    "1과 0으로 채워진 표(Borad)가 있습니다. 표 1칸은 1x1의 정사각형으로 이루어져 있습니다.\n",
    "\n",
    "표에서 1로 이루어진 가장 큰 정사각형을 찾아 넓이를 return 하는 solution 함수를 완성해주세요.\n",
    "\n",
    "(단, 정사각형이란 축에 평행한 정사각형을 말합니다.)\n",
    "\n",
    "예를 들어\n",
    "\n",
    "|1|2|3|4|\n",
    "|:-----:|:-----:|:-----:|:-----:|\n",
    "|0|1|1|1|\n",
    "|1|1|1|1|\n",
    "|1|1|1|1|\n",
    "|0|0|1|0|\n",
    "\n",
    "가 있다면 정사각형의 넓이는 9이다.\n",
    "\n",
    "**제한사항**\n",
    "\n",
    "- 표(Board)는 2차원 배열로 주어집니다.\n",
    "\n",
    "- 표(Board)의 행(Row)의 크기 : 1,000 이하의 자연수\n",
    "\n",
    "- 표(Board)의 열(Column)의 크기 : 1,000 이하의 자연수\n",
    "\n",
    "- 표(Board)의 값은 1또는 0으로만 이루어져 있습니다.\n",
    "\n",
    "**입출력 예**\n",
    "\n",
    "|board|answer|\n",
    "|-----|-----|\n",
    "|[[0, 1, 1, 1], [1, 1, 1, 1], [1, 1, 1, 1], [0, 0, 1, 0]]|9|\n",
    "|[[0, 0, 1, 1], [1, 1, 1, 1]]|4|"
   ]
  },
  {
   "cell_type": "markdown",
   "id": "7bfd2e23-b03a-4d46-8895-880092aebf31",
   "metadata": {},
   "source": [
    "동적프로그래밍...."
   ]
  },
  {
   "cell_type": "code",
   "execution_count": null,
   "id": "5d06501f-2102-4b00-b5b4-f47581537fda",
   "metadata": {},
   "outputs": [],
   "source": []
  }
 ],
 "metadata": {
  "kernelspec": {
   "display_name": "Python 3",
   "language": "python",
   "name": "python3"
  },
  "language_info": {
   "codemirror_mode": {
    "name": "ipython",
    "version": 3
   },
   "file_extension": ".py",
   "mimetype": "text/x-python",
   "name": "python",
   "nbconvert_exporter": "python",
   "pygments_lexer": "ipython3",
   "version": "3.8.12"
  }
 },
 "nbformat": 4,
 "nbformat_minor": 5
}
