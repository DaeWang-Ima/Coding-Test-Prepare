{
 "cells": [
  {
   "cell_type": "markdown",
   "id": "569a2201-d410-45b6-9fa4-8d7091129577",
   "metadata": {},
   "source": [
    "## 상수시간 $O(1)$ : Input data 크기와 상관없이 고정된 시간으로 계산\n",
    "\n",
    "- 배열의 n번째 원소에 접근\n",
    "\n",
    "- 스택에 push / pop\n",
    "\n",
    "- 큐에 삽입 / 삭제\n",
    "\n",
    "- 해시 테이블의 원소에 접근"
   ]
  },
  {
   "cell_type": "code",
   "execution_count": 1,
   "id": "caa98555-3fc0-42e7-bdfd-4c5be8e5b5e7",
   "metadata": {},
   "outputs": [
    {
     "name": "stdout",
     "output_type": "stream",
     "text": [
      "12\n"
     ]
    }
   ],
   "source": [
    "a = 5\n",
    "b = 7\n",
    "\n",
    "print(a + b)"
   ]
  },
  {
   "cell_type": "markdown",
   "id": "bcaadc2f-9214-4760-ad49-52500b22c773",
   "metadata": {},
   "source": [
    "- 위의 코드에서 연산의 횟수는 1회이다. → 상수 연산\n",
    "\n",
    "- $\\therefore$ 시간 복잡도 : $O(1)$"
   ]
  },
  {
   "cell_type": "code",
   "execution_count": 2,
   "id": "49694c1e-90f6-4c78-8569-8db65a215641",
   "metadata": {},
   "outputs": [
    {
     "name": "stdout",
     "output_type": "stream",
     "text": [
      "2\n",
      "4\n"
     ]
    }
   ],
   "source": [
    "list1 = [1, 2, 3, 4, 5, 6, 7, 8]\n",
    "\n",
    "def print_first(list1):\n",
    "    print(list1[0])\n",
    "    \n",
    "print_first([2, 3])\n",
    "print_first([4, 5, 6, 7, 8])"
   ]
  },
  {
   "cell_type": "markdown",
   "id": "72fef4f3-7da3-4340-82ca-a9f44e916d98",
   "metadata": {},
   "source": [
    "- 요소가 2개 있는 리스트든 혹은 100개 있는 리스트든 맨 앞에 있는 요소를 호출\n",
    "\n",
    "- 즉, Input data 크기와 상관없이 고정된 값을 추출\n",
    "\n",
    "- $\\therefore$ 시간 복잡도 : $O(1)$"
   ]
  },
  {
   "cell_type": "markdown",
   "id": "e42ec4aa-c0e6-4ae9-b706-0981e9381c29",
   "metadata": {},
   "source": [
    "## 선형시간 $O(n)$ : 실행 시간이 input data의 크기에 비례\n",
    "\n",
    "- 배열에서 검색, 최소/최대값 찾기 등 연산\n",
    "\n",
    "- 연결 리스트에서 순회, 최소/최대값 찾기 등 연산"
   ]
  },
  {
   "cell_type": "code",
   "execution_count": 3,
   "id": "93c6f824-a5ad-4780-80cf-8c6dd75287a0",
   "metadata": {},
   "outputs": [
    {
     "name": "stdout",
     "output_type": "stream",
     "text": [
      "15\n"
     ]
    }
   ],
   "source": [
    "a = [1, 2, 3, 4, 5]\n",
    "sum = 0\n",
    "\n",
    "for x in a:\n",
    "    sum += x\n",
    "\n",
    "print(sum)"
   ]
  },
  {
   "cell_type": "markdown",
   "id": "e6718bd8-358f-4cca-b15e-fcd084945548",
   "metadata": {},
   "source": [
    "- 5개의 데이터를 받아 차례로 5회 더해준다. → 위의 코드에서 연산의 횟수는 n에 비례한다.\n",
    "\n",
    "- sum에 0을 대입하는 연산도 있고 출력하는 부분도 있지만, 이러한 연산 횟수는 n이 커짐에 따라 무시할 수 있을 정도로 작아진다.\n",
    "\n",
    "- 즉, 가장 영향력이 큰 부분은 n에 비례하는 연산을 수행하는 반복문 부분이다.\n",
    "\n",
    "- $\\therefore$ 시간 복잡도 : $O(n)$"
   ]
  },
  {
   "cell_type": "code",
   "execution_count": 4,
   "id": "fdbd9d46-5d62-49d7-b70f-b18942117015",
   "metadata": {},
   "outputs": [
    {
     "name": "stdout",
     "output_type": "stream",
     "text": [
      "1\n",
      "2\n",
      "3\n",
      "4\n",
      "5\n",
      "1\n",
      "2\n",
      "3\n",
      "4\n",
      "5\n",
      "1\n",
      "2\n",
      "3\n",
      "4\n",
      "5\n"
     ]
    }
   ],
   "source": [
    "list2 = [1, 2, 3, 4, 5]\n",
    "\n",
    "def print_three_times(list2):\n",
    "    \n",
    "    for i in range(len(list2)):\n",
    "        print(list2[i])\n",
    "    \n",
    "    for i in range(len(list2)):\n",
    "        print(list2[i])\n",
    "        \n",
    "    for i in range(len(list2)):\n",
    "        print(list2[i])\n",
    "\n",
    "print_three_times(list2)"
   ]
  },
  {
   "cell_type": "markdown",
   "id": "68c99f4b-c7ee-49c5-ba20-99375210b8fc",
   "metadata": {},
   "source": [
    "- 위의 코드는 리스트의 길이에 비례하여 소요 시간이 늘어난다.\n",
    "\n",
    "- 함수 내부에 반복문이 3번 있으므로, 3n번 반복한다.\n",
    "\n",
    "- $O(3n) → O(n)$ (빅 오 표기법의 규칙)\n",
    "\n",
    "- $\\therefore$ 시간 복잡도 : $O(n)$"
   ]
  },
  {
   "cell_type": "code",
   "execution_count": 5,
   "id": "cc76f63f-dd22-4283-bfad-70dcfcaa76b7",
   "metadata": {},
   "outputs": [
    {
     "name": "stdout",
     "output_type": "stream",
     "text": [
      "[1, 2, 3, 4, 5]\n",
      "[1, 2, 3, 4, 5]\n",
      "[1, 2, 3, 4, 5, 6, 7, 8]\n",
      "[1, 2, 3, 4, 5, 6, 7, 8]\n",
      "[1, 2, 3, 4, 5, 6, 7, 8]\n",
      "[1, 2, 3, 4, 5, 6, 7, 8]\n"
     ]
    }
   ],
   "source": [
    "def print_half(list3):\n",
    "    \n",
    "    for i in range(len(list3) // 2):\n",
    "        print(list3)\n",
    "        \n",
    "print_half([1, 2, 3, 4, 5])\n",
    "print_half([1, 2, 3, 4, 5, 6, 7, 8])"
   ]
  },
  {
   "cell_type": "markdown",
   "id": "e4fb2376-5844-44ed-8d57-7d8a43d14367",
   "metadata": {},
   "source": [
    "- 위의 코드는 리스트 길이의 1/2에 비례하여 소요 시간이 늘어난다. → 즉, n/2 번 반복한다.\n",
    "\n",
    "- $O(\\frac{2}{n}) → O(n)$\n",
    "\n",
    "- $\\therefore$ 시간 복잡도 : $O(n)$"
   ]
  },
  {
   "cell_type": "markdown",
   "id": "39828828-c893-4dfe-89a2-49e24299dc4a",
   "metadata": {},
   "source": [
    "## 로그 시간 $O(log_{2} n)$ : 실행 시간이 input data 크기의 로그에 비례. 즉, 알고리즘의 각 단계에서 절반을 방문하지 않고 지나감.\n",
    "\n",
    "- 이진 탐색(Binary Search) 알고리즘"
   ]
  },
  {
   "cell_type": "code",
   "execution_count": 8,
   "id": "cffeeb2a-87fa-42ca-ae1f-e48a3688eb4a",
   "metadata": {},
   "outputs": [
    {
     "name": "stdin",
     "output_type": "stream",
     "text": [
      "찾는 값을 입력해주세요:  27\n"
     ]
    },
    {
     "name": "stdout",
     "output_type": "stream",
     "text": [
      "50 \n",
      "\n",
      "25 \n",
      "\n",
      "37 \n",
      "\n",
      "31 \n",
      "\n",
      "28 \n",
      "\n",
      "26 \n",
      "\n",
      "27 \n",
      "\n",
      "7번만에 값을 찾았습니다.\n"
     ]
    }
   ],
   "source": [
    "# 이진 탐색 알고리즘 - 정렬되어있는 리스트에서 사용\n",
    "num = [i for i in range(101)]\n",
    "\n",
    "low, high = 1, 100\n",
    "result = 0\n",
    "\n",
    "val = int(input(\"찾는 값을 입력해주세요: \"))\n",
    "\n",
    "# low > high 가 될 때 까지 반복한다.\n",
    "while low <= high:\n",
    "    \n",
    "    # low와 high의 가운데 값 계산\n",
    "    mid = (low + high) // 2\n",
    "    \n",
    "    # 횟수 Count\n",
    "    result += 1\n",
    "    \n",
    "    print(mid, \"\\n\")\n",
    "    \n",
    "    # mid 값과 찾는 값이 같으면, 루프를 빠져나온다.\n",
    "    if num[mid] == val:\n",
    "        break\n",
    "        \n",
    "    # mid 값이 찾는 값보다 크면, high = mid - 1\n",
    "    elif num[mid] > val:\n",
    "        high = mid - 1\n",
    "        \n",
    "    # 찾는 값이 mid 값보다 크면, low = mid + 1\n",
    "    else:\n",
    "        low = mid + 1\n",
    "        \n",
    "print(str(result) + \"번만에 값을 찾았습니다.\")"
   ]
  },
  {
   "cell_type": "markdown",
   "id": "5c13da82-4b44-4726-8ec3-98aa5474355c",
   "metadata": {},
   "source": [
    "- 리스트 길이의 $log_{2} n$ 에 비례하여 소요 시간이 늘어난다. → 즉, $log_{2} n$번 반복한다.\n",
    "\n",
    "- $\\therefore$ 시간 복잡도 : $O(log_{2} n)$"
   ]
  },
  {
   "cell_type": "markdown",
   "id": "18f99972-f90d-4522-adb7-46da993349cd",
   "metadata": {},
   "source": [
    "## 선형 로그 시간 $O(nlog_{2} n)$ : 실행 시간이 input data 크기와 input data 크기의 로그 곱에 비례.\n",
    "\n",
    "- 입력의 절반(혹은 일부)으로 나눌 때마다, 각 부분을 독립적으로 처리\n",
    "\n",
    "- 병합 정렬(Merge sort)\n",
    "\n",
    "- 힙 정렬(Heap sort)"
   ]
  },
  {
   "cell_type": "markdown",
   "id": "75c9885f-2e63-41ec-acef-ca3f7426552e",
   "metadata": {},
   "source": [
    "## 이차 시간 $O(n^2)$ : 실행 시간이 input data 크기의 제곱에 비례. 즉, 각 원소를 다른 모든 원소와 비교함.\n",
    "\n",
    "- 버블 정렬(Bubble sort)\n",
    "\n",
    "- 선택 정렬(Selection sort)\n",
    "\n",
    "- 삽입 정렬(Insertion sort)"
   ]
  },
  {
   "cell_type": "code",
   "execution_count": 10,
   "id": "ced50c87-829c-4daa-b0bd-a50a4a19bc65",
   "metadata": {},
   "outputs": [
    {
     "name": "stdout",
     "output_type": "stream",
     "text": [
      "1 1\n",
      "1 2\n",
      "1 3\n",
      "2 1\n",
      "2 2\n",
      "2 3\n",
      "3 1\n",
      "3 2\n",
      "3 3\n"
     ]
    }
   ],
   "source": [
    "def print_pairs(my_list):\n",
    "    \n",
    "    # 첫 번째로 리스트의 모든 원소 확인\n",
    "    for i in range(len(my_list)):\n",
    "        \n",
    "        # 두 번째로 리스트의 모든 원소 확인\n",
    "        for j in range(len(my_list)):\n",
    "            print(my_list[i], my_list[j])\n",
    "\n",
    "my_list = [1, 2, 3]    \n",
    "        \n",
    "print_pairs(my_list)"
   ]
  },
  {
   "cell_type": "markdown",
   "id": "6719d438-cc89-45b4-8119-aaa39d609667",
   "metadata": {},
   "source": [
    "- 리스트 길이의 제곱에 비례하여 소요 시간이 늘어난다. → $n^2$번 반복한다.\n",
    "\n",
    "- $\\therefore$ 시간 복잡도 : $O(n^2)$"
   ]
  },
  {
   "cell_type": "markdown",
   "id": "38441c4e-b1f6-4429-95fa-a8a587c4eca5",
   "metadata": {},
   "source": [
    "## 3차 시간 $O(n^3)$ : 실행 시간이 input data 크기의 세제곱에 비례."
   ]
  },
  {
   "cell_type": "code",
   "execution_count": 11,
   "id": "12e83865-daed-43e3-bf89-55c65340d861",
   "metadata": {},
   "outputs": [
    {
     "name": "stdout",
     "output_type": "stream",
     "text": [
      "1 1 1\n",
      "1 1 2\n",
      "1 1 3\n",
      "1 2 1\n",
      "1 2 2\n",
      "1 2 3\n",
      "1 3 1\n",
      "1 3 2\n",
      "1 3 3\n",
      "2 1 1\n",
      "2 1 2\n",
      "2 1 3\n",
      "2 2 1\n",
      "2 2 2\n",
      "2 2 3\n",
      "2 3 1\n",
      "2 3 2\n",
      "2 3 3\n",
      "3 1 1\n",
      "3 1 2\n",
      "3 1 3\n",
      "3 2 1\n",
      "3 2 2\n",
      "3 2 3\n",
      "3 3 1\n",
      "3 3 2\n",
      "3 3 3\n"
     ]
    }
   ],
   "source": [
    "def print_triples(my_list):\n",
    "    for i in range(len(my_list)):\n",
    "        for j in range(len(my_list)):\n",
    "            for k in range(len(my_list)):\n",
    "                print(my_list[i], my_list[j], my_list[k])\n",
    "\n",
    "print_triples(my_list)"
   ]
  },
  {
   "cell_type": "markdown",
   "id": "889487d8-68f5-4a8e-b719-ca8c00daa2fc",
   "metadata": {},
   "source": [
    "- 리스트 길이의 세제곱에 비례하여 소요 시간이 늘어난다. → $n^3$번 반복한다.\n",
    "\n",
    "- $\\therefore$ 시간 복잡도 : $O(n^3)$"
   ]
  },
  {
   "cell_type": "markdown",
   "id": "13b244e6-658e-4239-beac-05dce58dc9fd",
   "metadata": {},
   "source": [
    "## 지수 시간 $O(2^n)$ : Input data 들의 원소들로 만들 수 있는 모든 부분 집합을 생성"
   ]
  },
  {
   "cell_type": "markdown",
   "id": "07dd1bc0-3a3d-47f7-bbf0-f9e29c7a236f",
   "metadata": {},
   "source": [
    "## 팩토리얼 시간 $O(n!)$ : Input data의 원소들로 만들 수 있는 모든 순열을 생성"
   ]
  },
  {
   "cell_type": "markdown",
   "id": "a3afbe69-bca1-4b6c-9472-238981a083bf",
   "metadata": {},
   "source": [
    "## 알고리즘 속 함수 실행 시간\n",
    "\n",
    "- 반복문 : 반복문 내 구문의 실행 시간과 반복 횟수의 곱. **시간 복잡도는** $O(n)$\n",
    "\n",
    "- 중첩 반복문 : 모든 반복문 크기의 곱과 반복문 내 구문의 실행 시간을 곱한 것. **반복문 수를 c라고 할 때, 시간 복잡도는** $O(n^c)$\n",
    "\n",
    "- if-else 구문 : if나 else 중 실행 시간이 더 많이 걸리는 블록을 선택하며, 나머지는 무시한다."
   ]
  },
  {
   "cell_type": "markdown",
   "id": "30493120-3edf-40f6-b4ec-612e778eacab",
   "metadata": {},
   "source": [
    "## Reference\n",
    "\n",
    "- 공공빅데이터 청년인턴십 Cafe"
   ]
  }
 ],
 "metadata": {
  "kernelspec": {
   "display_name": "Python 3 (ipykernel)",
   "language": "python",
   "name": "python3"
  },
  "language_info": {
   "codemirror_mode": {
    "name": "ipython",
    "version": 3
   },
   "file_extension": ".py",
   "mimetype": "text/x-python",
   "name": "python",
   "nbconvert_exporter": "python",
   "pygments_lexer": "ipython3",
   "version": "3.9.9"
  }
 },
 "nbformat": 4,
 "nbformat_minor": 5
}
