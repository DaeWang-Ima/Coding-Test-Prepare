{
 "cells": [
  {
   "cell_type": "markdown",
   "id": "20e3d1c5-b87d-4d81-a367-cebbff1bfb88",
   "metadata": {},
   "source": [
    "# <a href=\"https://www.acmicpc.net/problem/2750\">백준 2750번: 수 정렬하기</a>\n",
    "\n",
    "|시간 제한|메모리 제한|\n",
    "|-----|-----|\n",
    "|1초|128 MB|\n",
    "\n",
    "**문제**\n",
    "\n",
    "N 개의 수가 주어졌을 때, 이를 오름차순으로 정렬하는 프로그램을 작성하시오.\n",
    "\n",
    "**입력**\n",
    "\n",
    "첫째 줄에 수의 개수 N(1 ≦ N ≦ 1,000)이 주어진다. 둘째 줄부터 N개의 줄에는 수가 주어진다. 이 수는 절댓값이 1,000보다 작거나 같은 정수이다. 수는 중복되지 않는다.\n",
    "\n",
    "**출력**\n",
    "\n",
    "첫째 줄부터 N개의 줄에 오름차순으로 정렬한 결과를 한 줄에 하나씩 출력한다.\n",
    "\n",
    "**에제 입력**\n",
    "\n",
    "5<br>\n",
    "5<br>\n",
    "2<br>\n",
    "3<br>\n",
    "4<br>\n",
    "1\n",
    "\n",
    "**예제 출력**\n",
    "\n",
    "1<br>\n",
    "2<br>\n",
    "3<br>\n",
    "4<br>\n",
    "5"
   ]
  },
  {
   "cell_type": "markdown",
   "id": "7a62abeb-14bb-408e-8e92-82d2a19e1e93",
   "metadata": {},
   "source": [
    "## Note\n",
    "\n",
    "- 문제를 풀기 전, 가장 먼저 `시간 제한(시간복잡도)`, `메모리 제한(공간 복잡도)`, `input 데이터의 범위(크기)`를 확인해야 한다.\n",
    "\n",
    "- 미리 시간 복잡도를 생각해보고, 코드로 구현할 가치가 있는지 확인하는게 중요하다.\n",
    "\n",
    "- 현재 문제에서 **시간 제한 1초** & **입력의 크기가 최대 1,000** 이므로 $O(N^3)$의 알고리즘으로는 무리가 있다고 판단할 수 있다.\n",
    "\n",
    "- 1초 기준, N의 크기에 따른 허용 시간복잡도는 아래 표와 같다.(대략적인 표 이므로 맹신 X)\n",
    "\n",
    "|N의 크기|허용 시간복잡도|\n",
    "|:-----:|:-----:|\n",
    "|N ≦ 11|$O(N!)$|\n",
    "|N ≦ 25|$O(2^N)$|\n",
    "|N ≦ 100|$O(N^4)$|\n",
    "|N ≦ 500|$O(N^3)$|\n",
    "|N ≦ 3,000|$O(N^{2} log N)$|\n",
    "|N ≦ 5,000|$O(N^2)$|\n",
    "|N ≦ 1,000,000|$O(N log N)$|\n",
    "|N ≦ 10,000,000|$O(N)$|\n",
    "|그 이상|$O(log N)$, $O(1)$|\n",
    "\n",
    "- N이 만 단위 이하일 경우 $O(N^2)$ 알고리즘으로 충분히 해결 가능하고, 그 이상은 $O(N log N)$ 알고리즘을 1순위로 염두해두는 것이 좋다고 한다."
   ]
  },
  {
   "cell_type": "markdown",
   "id": "72632cea-351d-4d9e-9043-8868e1d525af",
   "metadata": {},
   "source": [
    "## My Solution"
   ]
  },
  {
   "cell_type": "code",
   "execution_count": 8,
   "id": "6b2bbd19-5491-4fcb-9250-f877d7f0c432",
   "metadata": {},
   "outputs": [
    {
     "name": "stdin",
     "output_type": "stream",
     "text": [
      " 5\n",
      " 5\n",
      " 2\n",
      " 3\n",
      " 4\n",
      " 1\n"
     ]
    },
    {
     "name": "stdout",
     "output_type": "stream",
     "text": [
      "1\n",
      "2\n",
      "3\n",
      "4\n",
      "5\n"
     ]
    }
   ],
   "source": [
    "# N개의 수를 입력받기\n",
    "n = int(input())\n",
    "\n",
    "# 입력받은 숫자들을 담을 리스트 객체 생성\n",
    "n_list = []\n",
    "\n",
    "# N번 반복하여 'n_list'에 입력받은 숫자 담기\n",
    "for _ in range(n):\n",
    "    n_list.append(int(input()))\n",
    "    \n",
    "# 값을 정렬한 후에 출력\n",
    "for value in sorted(n_list):\n",
    "    print(value)"
   ]
  }
 ],
 "metadata": {
  "kernelspec": {
   "display_name": "Python 3 (ipykernel)",
   "language": "python",
   "name": "python3"
  },
  "language_info": {
   "codemirror_mode": {
    "name": "ipython",
    "version": 3
   },
   "file_extension": ".py",
   "mimetype": "text/x-python",
   "name": "python",
   "nbconvert_exporter": "python",
   "pygments_lexer": "ipython3",
   "version": "3.9.9"
  }
 },
 "nbformat": 4,
 "nbformat_minor": 5
}
