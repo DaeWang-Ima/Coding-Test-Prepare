{
 "cells": [
  {
   "cell_type": "markdown",
   "id": "83de4697-ba4d-4092-b38f-b03534db10a9",
   "metadata": {},
   "source": [
    "# 코딩 테스트 준비 시, 반드시 알아두어야 할 Python 라이브러리\n",
    "\n",
    "- 내장 함수 : `print()`, `input()`과 같은 기본 입출력 기능부터 `sorter()`와 같은 정렬 기능을 포함하는 내장 라이브러리\n",
    "\n",
    "- itertools : 반복되는 형태의 데이터를 처리하는 기능을 제공하는 라이브러리, 순열과 조합 등의 기능을 제공한다.\n",
    "\n",
    "- heapq : 힙(Heap) 기능을 제공하는 라이브러리. 우선수위 큐 기능을 구현하기 위해 사용한다.\n",
    "\n",
    "- bisect : 이진 탐색(Binary Search) 기능을 제공하는 라이브러리이다.\n",
    "\n",
    "- collections : 덱(deque), 카운터(Counter) 등의 유용한 자료구조를 포함하는 라이브러리이다.\n",
    "\n",
    "- math : 필수적인 수학적 기능을 제공하는 라이브러리이다. 팩토리얼, 제곱근, 최대공약수(GCD), 삼각함수 관련 한수부터 파이와 같은 상수를 포함하고 있다."
   ]
  },
  {
   "cell_type": "markdown",
   "id": "c7885eec-ad9f-44dc-9ec3-ebbe2ec55d00",
   "metadata": {},
   "source": [
    "## 내장 함수\n",
    "\n",
    "- `sum()` : iterable 객체가 입력으로 주어졌을 때, 모든 원소의 합을 반환한다.\n",
    "\n",
    "- `max()` : 파라미터가 2개 이상 들어왔을 때, 가장 큰 값을 반환한다.\n",
    "\n",
    "- `min()` : 파라미터가 2개 이상 들어왔을 때, 가장 작은 값을 반환한다.\n",
    "\n",
    "- `eval()` : 수학 수식이 문자열 형식으로 들어오면 해당 수식을 계산한 결과를 반환한다.\n",
    "\n",
    "- `sorted()` : iterable 객체가 들어왔을 때, 정렬된 결과를 반환한다.\n",
    "\n",
    "    - key 속성으로 정렬 기준을 명시할 수 있고, reverse 속성으로 정렬된 결과 리스트를 역순으로 정렬할지의 여부를 정할 수 있다."
   ]
  },
  {
   "cell_type": "markdown",
   "id": "3f6ec25f-3f5f-4974-8820-31331ca62738",
   "metadata": {},
   "source": [
    "### 1. eval() 사용 예시 소스코드"
   ]
  },
  {
   "cell_type": "code",
   "execution_count": 2,
   "id": "155481b8-042c-45b0-b5fa-947449ae7954",
   "metadata": {},
   "outputs": [
    {
     "name": "stdout",
     "output_type": "stream",
     "text": [
      "36\n"
     ]
    }
   ],
   "source": [
    "result = eval(\"(2 + 4) * 6\")\n",
    "print(result)"
   ]
  },
  {
   "cell_type": "markdown",
   "id": "be62abb6-3305-4559-bc59-a88efc407766",
   "metadata": {},
   "source": [
    "### 2. sorted() 사용 예시 소스코드"
   ]
  },
  {
   "cell_type": "code",
   "execution_count": 6,
   "id": "74525028-6a8c-4203-8197-95202c480b94",
   "metadata": {},
   "outputs": [
    {
     "name": "stdout",
     "output_type": "stream",
     "text": [
      "오름차순 정렬 : [2, 3, 4, 7, 9] \n",
      "\n",
      "내림차순 정렬 : [9, 7, 4, 3, 2]\n"
     ]
    }
   ],
   "source": [
    "# 오름차순 정렬\n",
    "result = sorted([9, 3, 2, 7, 4])\n",
    "print(\"오름차순 정렬 :\", result, \"\\n\")\n",
    "\n",
    "# 내림차순 정렬\n",
    "result = sorted([9, 3, 2, 7, 4], reverse = True)\n",
    "print(\"내림차순 정렬 :\", result)"
   ]
  },
  {
   "cell_type": "markdown",
   "id": "a8442af8-bfa2-46c2-8ac0-d9623f95d9fe",
   "metadata": {},
   "source": [
    "- 리스트의 원소로 리스트나 튜플이 존재할 때, 특정한 기준에 따라서 정렬을 수행할 수 있다.\n",
    "\n",
    "- 정렬 기준은 key 속성을 통해 명시한다.\n",
    "\n",
    "- 리스트에 튜플이 원소로 존재할 때, 이를 튜플의 두 번째 원소를 기준으로 내림차순 정렬해보도록 하자."
   ]
  },
  {
   "cell_type": "code",
   "execution_count": 7,
   "id": "796e07c4-5b5d-4413-bdcd-401bf24b62de",
   "metadata": {},
   "outputs": [
    {
     "name": "stdout",
     "output_type": "stream",
     "text": [
      "Key 속성 사용 : [('이서버', 42), ('김프론', 33), ('박성재', 27)]\n"
     ]
    }
   ],
   "source": [
    "result = sorted([(\"박성재\", 27), (\"김프론\", 33), (\"이서버\", 42)], key = lambda x: x[1], reverse = True)\n",
    "print(\"Key 속성 사용 :\", result)"
   ]
  },
  {
   "cell_type": "markdown",
   "id": "05662b53-ec50-4040-8e53-8ba3c571d76e",
   "metadata": {},
   "source": [
    "- Python 에서 리스트와 같은 **iterable** 객체는 기본으로 `sort()` 함수를 내장하고 있다.\n",
    "\n",
    "- 따라서 `sorted()` 함수를 사용하지 않아도 정렬할 수 있지만, 이 경우 리스트 객체의 내부 값이 정렬된 값으로 바로 변경된다."
   ]
  },
  {
   "cell_type": "code",
   "execution_count": 9,
   "id": "a0c80bb6-c32a-423a-ad1a-efa0ba5a8260",
   "metadata": {},
   "outputs": [
    {
     "name": "stdout",
     "output_type": "stream",
     "text": [
      "sort 함수를 사용하여 정렬 : [2, 3, 5, 6, 9]\n"
     ]
    }
   ],
   "source": [
    "data = [9, 3, 2, 5, 6]\n",
    "\n",
    "# 'sort' 함수를 사용하여 정렬\n",
    "data.sort()\n",
    "print(\"sort 함수를 사용하여 정렬 :\", data)"
   ]
  },
  {
   "cell_type": "markdown",
   "id": "eb6d4ba4-bbac-4bdb-9c49-ac27ccb8f09c",
   "metadata": {},
   "source": [
    "## itertools 라이브러리\n",
    "\n",
    "- itertools는 Python에서 반복되는 데이터를 처리하는 기능을 포함하고 있는 라이브러리이다.\n",
    "\n",
    "- 제공하는 클래스는 매우 다양하지만, 코딩 테스트에서 가장 유용하게 사용할 수 있는 클래스는 다음과 같다.\n",
    "\n",
    "    - permutations : 순열\n",
    "    - combinations : 조합\n",
    "    - product : 중복 허용 순열\n",
    "    - combinations_with_replacement : 중복 허용 조합<br><br>\n",
    "    \n",
    "- 모두 리스트와 같은 iterable 객체에서 r개의 데이터를 뽑아 순서를 고려하여(혹은 고려하지 않고) 중복을 허용하여(혹은 허용하지 않고) 나열하는 모든 경우를 계산한다.\n",
    "\n",
    "- 데이터 목록과 뽑을 데이터의 개수를 인자로 넘겨준다.\n",
    "\n",
    "- 모두 클래스이므로 객체 초기화 이후에는 리스트 자료형으로 변환하여 사용해줘야 한다."
   ]
  },
  {
   "cell_type": "markdown",
   "id": "ff4107bf-fbfb-4788-a73a-8d0f23906b0f",
   "metadata": {},
   "source": [
    "### 1. permutations() 사용 예시 소스코드"
   ]
  },
  {
   "cell_type": "code",
   "execution_count": 11,
   "id": "72c5bc1a-5495-4404-9c0c-2fee95997f48",
   "metadata": {},
   "outputs": [
    {
     "name": "stdout",
     "output_type": "stream",
     "text": [
      "[('A', 'B', 'C'), ('A', 'C', 'B'), ('B', 'A', 'C'), ('B', 'C', 'A'), ('C', 'A', 'B'), ('C', 'B', 'A')]\n"
     ]
    }
   ],
   "source": [
    "# 라이브러리 불러오기\n",
    "from itertools import permutations\n",
    "\n",
    "# 데이터 준비\n",
    "data = [\"A\", \"B\", \"C\"]\n",
    "\n",
    "# 위의 데이터에서 '3개를 뽑는 순열'\n",
    "result = list(permutations(data, 3))\n",
    "print(result)"
   ]
  },
  {
   "cell_type": "markdown",
   "id": "8083be71-0793-4091-9e9d-724b929d5694",
   "metadata": {},
   "source": [
    "### 2. combinations() 사용 예시 소스코드"
   ]
  },
  {
   "cell_type": "code",
   "execution_count": 13,
   "id": "45bdcc1a-33f4-4a00-8d0d-3e27d566390b",
   "metadata": {},
   "outputs": [
    {
     "name": "stdout",
     "output_type": "stream",
     "text": [
      "[('A', 'B'), ('A', 'C'), ('B', 'C')]\n"
     ]
    }
   ],
   "source": [
    "# 라이브러리 불러오기\n",
    "from itertools import combinations\n",
    "\n",
    "# '2개를 뽑는 모든 조합' 구하기\n",
    "result = list(combinations(data, 2))\n",
    "print(result)"
   ]
  },
  {
   "cell_type": "markdown",
   "id": "c5ffb67f-0c27-4638-bc41-8fbcbdd1710a",
   "metadata": {},
   "source": [
    "### 3. product() 사용 예시 소스코드"
   ]
  },
  {
   "cell_type": "code",
   "execution_count": 16,
   "id": "ee024e40-aaa6-4a2f-873e-566f2fa2e824",
   "metadata": {},
   "outputs": [
    {
     "name": "stdout",
     "output_type": "stream",
     "text": [
      "[('A', 'A'), ('A', 'B'), ('A', 'C'), ('B', 'A'), ('B', 'B'), ('B', 'C'), ('C', 'A'), ('C', 'B'), ('C', 'C')]\n"
     ]
    }
   ],
   "source": [
    "# 라이브러리 불러오기\n",
    "from itertools import product\n",
    "\n",
    "# '2개를 뽑는 모든 순열' 구하기 (단, 중복 허용)\n",
    "result = list(product(data, repeat = 2))\n",
    "print(result)"
   ]
  },
  {
   "cell_type": "markdown",
   "id": "a320cdca-0a86-48ff-a744-a3318061572d",
   "metadata": {},
   "source": [
    "### 4. combinations_with_replacement() 사용 예시 소스코드"
   ]
  },
  {
   "cell_type": "code",
   "execution_count": 18,
   "id": "2bd22fcc-fb86-4545-ba72-bb068a8adb52",
   "metadata": {},
   "outputs": [
    {
     "name": "stdout",
     "output_type": "stream",
     "text": [
      "[('A', 'A'), ('A', 'B'), ('A', 'C'), ('B', 'B'), ('B', 'C'), ('C', 'C')]\n"
     ]
    }
   ],
   "source": [
    "# 라리브러리 불러오기\n",
    "from itertools import combinations_with_replacement\n",
    "\n",
    "# '2개를 뽑는 모든 조합' 구하기 (단, 중복 허용)\n",
    "result = list(combinations_with_replacement(data, 2))\n",
    "print(result)"
   ]
  },
  {
   "cell_type": "code",
   "execution_count": null,
   "id": "c4343d6e-c917-475b-80ae-87b468078bd8",
   "metadata": {},
   "outputs": [],
   "source": []
  }
 ],
 "metadata": {
  "kernelspec": {
   "display_name": "Python 3 (ipykernel)",
   "language": "python",
   "name": "python3"
  },
  "language_info": {
   "codemirror_mode": {
    "name": "ipython",
    "version": 3
   },
   "file_extension": ".py",
   "mimetype": "text/x-python",
   "name": "python",
   "nbconvert_exporter": "python",
   "pygments_lexer": "ipython3",
   "version": "3.9.9"
  }
 },
 "nbformat": 4,
 "nbformat_minor": 5
}
